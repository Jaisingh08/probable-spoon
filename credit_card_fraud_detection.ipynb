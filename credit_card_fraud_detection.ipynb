{
 "cells": [
  {
   "cell_type": "markdown",
   "metadata": {
    "id": "A_L2dX3aMS0R"
   },
   "source": [
    "## About the Dataset\n",
    "\n",
    "This is a simulated credit card transaction dataset containing legitimate and fraud transactions from the duration 1st Jan 2019 - 31st Dec 2020. It covers credit cards of 1000 customers doing transactions with a pool of 800 merchants.\n",
    "\n",
    "### Source of Simulation\n",
    "\n",
    "This was generated using Sparkov Data Generation | Github tool created by Brandon Harris. This simulation was run for the duration - 1 Jan 2019 to 31 Dec 2020. The files were combined and converted into a standard format.\n",
    "\n",
    "### Information about the Simulator\n",
    "\n",
    "I do not own the simulator. I used the one used by Brandon Harris and just to understand how it works, I went through few portions of the code. This is what I understood from what I read:\n",
    "\n",
    "The simulator has certain pre-defined list of merchants, customers and transaction categories. And then using a python library called \"faker\", and with the number of customers, merchants that you mention during simulation, an intermediate list is created.\n",
    "\n",
    "After this, depending on the profile you choose for e.g. \"adults 2550 female rural.json\" (which means simulation properties of adult females in the age range of 25-50 who are from rural areas), the transactions are created. Say, for this profile, you could check \"Sparkov | Github | adults_2550_female_rural.json\", there are parameter value ranges defined in terms of min, max transactions per day, distribution of transactions across days of the week and normal distribution properties (mean, standard deviation) for amounts in various categories. Using these measures of distributions, the transactions are generated using faker.\n",
    "\n",
    "What I did was generate transactions across all profiles and then merged them together to create a more realistic representation of simulated transactions.\n",
    "\n"
   ]
  },
  {
   "cell_type": "markdown",
   "metadata": {
    "id": "MZkArdk1O3s0"
   },
   "source": [
    "#### 1. Import Libraries"
   ]
  },
  {
   "cell_type": "code",
   "execution_count": 1,
   "metadata": {
    "id": "sv51Jd4JLnPl"
   },
   "outputs": [],
   "source": [
    "import pandas as pd\n",
    "import numpy as np\n",
    "import matplotlib.pyplot as plt\n",
    "import seaborn as sns\n",
    "import sklearn\n",
    "from sklearn.preprocessing import StandardScaler\n",
    "import datetime as dt\n",
    "from sklearn.cluster import KMeans\n",
    "from sklearn.metrics import silhouette_score\n",
    "from sklearn.model_selection import train_test_split\n",
    "from sklearn.preprocessing import MinMaxScaler\n",
    "from scipy.cluster.hierarchy import linkage\n",
    "from scipy.cluster.hierarchy import dendrogram\n",
    "from scipy.cluster.hierarchy import cut_tree\n",
    "from sklearn.preprocessing import LabelEncoder\n",
    "from sklearn.metrics import classification_report,accuracy_score\n",
    "from sklearn.ensemble import IsolationForest\n",
    "from sklearn.neighbors import LocalOutlierFactor\n",
    "from sklearn.svm import OneClassSVM\n",
    "from sklearn.model_selection import GridSearchCV\n",
    "from sklearn.tree import DecisionTreeClassifier\n",
    "import warnings\n",
    "warnings.filterwarnings('ignore')\n",
    "%matplotlib inline\n",
    "pd.set_option('display.max_columns', None)"
   ]
  },
  {
   "cell_type": "markdown",
   "metadata": {
    "id": "fGDzg8wYO1P5"
   },
   "source": [
    "#### 2. Load Data"
   ]
  },
  {
   "cell_type": "code",
   "execution_count": 2,
   "metadata": {
    "colab": {
     "base_uri": "https://localhost:8080/",
     "height": 496
    },
    "id": "4zKFZecB-Nln",
    "outputId": "bcd3f9c6-0d57-4e14-f28f-eff608de3fb8"
   },
   "outputs": [
    {
     "data": {
      "text/html": [
       "<div>\n",
       "<style scoped>\n",
       "    .dataframe tbody tr th:only-of-type {\n",
       "        vertical-align: middle;\n",
       "    }\n",
       "\n",
       "    .dataframe tbody tr th {\n",
       "        vertical-align: top;\n",
       "    }\n",
       "\n",
       "    .dataframe thead th {\n",
       "        text-align: right;\n",
       "    }\n",
       "</style>\n",
       "<table border=\"1\" class=\"dataframe\">\n",
       "  <thead>\n",
       "    <tr style=\"text-align: right;\">\n",
       "      <th></th>\n",
       "      <th>Unnamed: 0</th>\n",
       "      <th>trans_date_trans_time</th>\n",
       "      <th>cc_num</th>\n",
       "      <th>merchant</th>\n",
       "      <th>category</th>\n",
       "      <th>amt</th>\n",
       "      <th>first</th>\n",
       "      <th>last</th>\n",
       "      <th>gender</th>\n",
       "      <th>street</th>\n",
       "      <th>city</th>\n",
       "      <th>state</th>\n",
       "      <th>zip</th>\n",
       "      <th>lat</th>\n",
       "      <th>long</th>\n",
       "      <th>city_pop</th>\n",
       "      <th>job</th>\n",
       "      <th>dob</th>\n",
       "      <th>trans_num</th>\n",
       "      <th>unix_time</th>\n",
       "      <th>merch_lat</th>\n",
       "      <th>merch_long</th>\n",
       "      <th>is_fraud</th>\n",
       "    </tr>\n",
       "  </thead>\n",
       "  <tbody>\n",
       "    <tr>\n",
       "      <th>0</th>\n",
       "      <td>0</td>\n",
       "      <td>2020-06-21 12:14:25</td>\n",
       "      <td>2291163933867244</td>\n",
       "      <td>fraud_Kirlin and Sons</td>\n",
       "      <td>personal_care</td>\n",
       "      <td>2.86</td>\n",
       "      <td>Jeff</td>\n",
       "      <td>Elliott</td>\n",
       "      <td>M</td>\n",
       "      <td>351 Darlene Green</td>\n",
       "      <td>Columbia</td>\n",
       "      <td>SC</td>\n",
       "      <td>29209</td>\n",
       "      <td>33.9659</td>\n",
       "      <td>-80.9355</td>\n",
       "      <td>333497</td>\n",
       "      <td>Mechanical engineer</td>\n",
       "      <td>1968-03-19</td>\n",
       "      <td>2da90c7d74bd46a0caf3777415b3ebd3</td>\n",
       "      <td>1371816865</td>\n",
       "      <td>33.986391</td>\n",
       "      <td>-81.200714</td>\n",
       "      <td>0</td>\n",
       "    </tr>\n",
       "    <tr>\n",
       "      <th>1</th>\n",
       "      <td>1</td>\n",
       "      <td>2020-06-21 12:14:33</td>\n",
       "      <td>3573030041201292</td>\n",
       "      <td>fraud_Sporer-Keebler</td>\n",
       "      <td>personal_care</td>\n",
       "      <td>29.84</td>\n",
       "      <td>Joanne</td>\n",
       "      <td>Williams</td>\n",
       "      <td>F</td>\n",
       "      <td>3638 Marsh Union</td>\n",
       "      <td>Altonah</td>\n",
       "      <td>UT</td>\n",
       "      <td>84002</td>\n",
       "      <td>40.3207</td>\n",
       "      <td>-110.4360</td>\n",
       "      <td>302</td>\n",
       "      <td>Sales professional, IT</td>\n",
       "      <td>1990-01-17</td>\n",
       "      <td>324cc204407e99f51b0d6ca0055005e7</td>\n",
       "      <td>1371816873</td>\n",
       "      <td>39.450498</td>\n",
       "      <td>-109.960431</td>\n",
       "      <td>0</td>\n",
       "    </tr>\n",
       "    <tr>\n",
       "      <th>2</th>\n",
       "      <td>2</td>\n",
       "      <td>2020-06-21 12:14:53</td>\n",
       "      <td>3598215285024754</td>\n",
       "      <td>fraud_Swaniawski, Nitzsche and Welch</td>\n",
       "      <td>health_fitness</td>\n",
       "      <td>41.28</td>\n",
       "      <td>Ashley</td>\n",
       "      <td>Lopez</td>\n",
       "      <td>F</td>\n",
       "      <td>9333 Valentine Point</td>\n",
       "      <td>Bellmore</td>\n",
       "      <td>NY</td>\n",
       "      <td>11710</td>\n",
       "      <td>40.6729</td>\n",
       "      <td>-73.5365</td>\n",
       "      <td>34496</td>\n",
       "      <td>Librarian, public</td>\n",
       "      <td>1970-10-21</td>\n",
       "      <td>c81755dbbbea9d5c77f094348a7579be</td>\n",
       "      <td>1371816893</td>\n",
       "      <td>40.495810</td>\n",
       "      <td>-74.196111</td>\n",
       "      <td>0</td>\n",
       "    </tr>\n",
       "    <tr>\n",
       "      <th>3</th>\n",
       "      <td>3</td>\n",
       "      <td>2020-06-21 12:15:15</td>\n",
       "      <td>3591919803438423</td>\n",
       "      <td>fraud_Haley Group</td>\n",
       "      <td>misc_pos</td>\n",
       "      <td>60.05</td>\n",
       "      <td>Brian</td>\n",
       "      <td>Williams</td>\n",
       "      <td>M</td>\n",
       "      <td>32941 Krystal Mill Apt. 552</td>\n",
       "      <td>Titusville</td>\n",
       "      <td>FL</td>\n",
       "      <td>32780</td>\n",
       "      <td>28.5697</td>\n",
       "      <td>-80.8191</td>\n",
       "      <td>54767</td>\n",
       "      <td>Set designer</td>\n",
       "      <td>1987-07-25</td>\n",
       "      <td>2159175b9efe66dc301f149d3d5abf8c</td>\n",
       "      <td>1371816915</td>\n",
       "      <td>28.812398</td>\n",
       "      <td>-80.883061</td>\n",
       "      <td>0</td>\n",
       "    </tr>\n",
       "    <tr>\n",
       "      <th>4</th>\n",
       "      <td>4</td>\n",
       "      <td>2020-06-21 12:15:17</td>\n",
       "      <td>3526826139003047</td>\n",
       "      <td>fraud_Johnston-Casper</td>\n",
       "      <td>travel</td>\n",
       "      <td>3.19</td>\n",
       "      <td>Nathan</td>\n",
       "      <td>Massey</td>\n",
       "      <td>M</td>\n",
       "      <td>5783 Evan Roads Apt. 465</td>\n",
       "      <td>Falmouth</td>\n",
       "      <td>MI</td>\n",
       "      <td>49632</td>\n",
       "      <td>44.2529</td>\n",
       "      <td>-85.0170</td>\n",
       "      <td>1126</td>\n",
       "      <td>Furniture designer</td>\n",
       "      <td>1955-07-06</td>\n",
       "      <td>57ff021bd3f328f8738bb535c302a31b</td>\n",
       "      <td>1371816917</td>\n",
       "      <td>44.959148</td>\n",
       "      <td>-85.884734</td>\n",
       "      <td>0</td>\n",
       "    </tr>\n",
       "  </tbody>\n",
       "</table>\n",
       "</div>"
      ],
      "text/plain": [
       "   Unnamed: 0 trans_date_trans_time            cc_num  \\\n",
       "0           0   2020-06-21 12:14:25  2291163933867244   \n",
       "1           1   2020-06-21 12:14:33  3573030041201292   \n",
       "2           2   2020-06-21 12:14:53  3598215285024754   \n",
       "3           3   2020-06-21 12:15:15  3591919803438423   \n",
       "4           4   2020-06-21 12:15:17  3526826139003047   \n",
       "\n",
       "                               merchant        category    amt   first  \\\n",
       "0                 fraud_Kirlin and Sons   personal_care   2.86    Jeff   \n",
       "1                  fraud_Sporer-Keebler   personal_care  29.84  Joanne   \n",
       "2  fraud_Swaniawski, Nitzsche and Welch  health_fitness  41.28  Ashley   \n",
       "3                     fraud_Haley Group        misc_pos  60.05   Brian   \n",
       "4                 fraud_Johnston-Casper          travel   3.19  Nathan   \n",
       "\n",
       "       last gender                       street        city state    zip  \\\n",
       "0   Elliott      M            351 Darlene Green    Columbia    SC  29209   \n",
       "1  Williams      F             3638 Marsh Union     Altonah    UT  84002   \n",
       "2     Lopez      F         9333 Valentine Point    Bellmore    NY  11710   \n",
       "3  Williams      M  32941 Krystal Mill Apt. 552  Titusville    FL  32780   \n",
       "4    Massey      M     5783 Evan Roads Apt. 465    Falmouth    MI  49632   \n",
       "\n",
       "       lat      long  city_pop                     job         dob  \\\n",
       "0  33.9659  -80.9355    333497     Mechanical engineer  1968-03-19   \n",
       "1  40.3207 -110.4360       302  Sales professional, IT  1990-01-17   \n",
       "2  40.6729  -73.5365     34496       Librarian, public  1970-10-21   \n",
       "3  28.5697  -80.8191     54767            Set designer  1987-07-25   \n",
       "4  44.2529  -85.0170      1126      Furniture designer  1955-07-06   \n",
       "\n",
       "                          trans_num   unix_time  merch_lat  merch_long  \\\n",
       "0  2da90c7d74bd46a0caf3777415b3ebd3  1371816865  33.986391  -81.200714   \n",
       "1  324cc204407e99f51b0d6ca0055005e7  1371816873  39.450498 -109.960431   \n",
       "2  c81755dbbbea9d5c77f094348a7579be  1371816893  40.495810  -74.196111   \n",
       "3  2159175b9efe66dc301f149d3d5abf8c  1371816915  28.812398  -80.883061   \n",
       "4  57ff021bd3f328f8738bb535c302a31b  1371816917  44.959148  -85.884734   \n",
       "\n",
       "   is_fraud  \n",
       "0         0  \n",
       "1         0  \n",
       "2         0  \n",
       "3         0  \n",
       "4         0  "
      ]
     },
     "execution_count": 2,
     "metadata": {},
     "output_type": "execute_result"
    }
   ],
   "source": [
    "df_test = pd.read_csv('fraudTest.csv')\n",
    "df_test.head()"
   ]
  },
  {
   "cell_type": "code",
   "execution_count": 3,
   "metadata": {
    "colab": {
     "base_uri": "https://localhost:8080/",
     "height": 565
    },
    "id": "OUBvY3r4KXGI",
    "outputId": "c2873f08-bf11-477f-e4a0-e59582811d53"
   },
   "outputs": [
    {
     "data": {
      "text/html": [
       "<div>\n",
       "<style scoped>\n",
       "    .dataframe tbody tr th:only-of-type {\n",
       "        vertical-align: middle;\n",
       "    }\n",
       "\n",
       "    .dataframe tbody tr th {\n",
       "        vertical-align: top;\n",
       "    }\n",
       "\n",
       "    .dataframe thead th {\n",
       "        text-align: right;\n",
       "    }\n",
       "</style>\n",
       "<table border=\"1\" class=\"dataframe\">\n",
       "  <thead>\n",
       "    <tr style=\"text-align: right;\">\n",
       "      <th></th>\n",
       "      <th>Unnamed: 0</th>\n",
       "      <th>trans_date_trans_time</th>\n",
       "      <th>cc_num</th>\n",
       "      <th>merchant</th>\n",
       "      <th>category</th>\n",
       "      <th>amt</th>\n",
       "      <th>first</th>\n",
       "      <th>last</th>\n",
       "      <th>gender</th>\n",
       "      <th>street</th>\n",
       "      <th>city</th>\n",
       "      <th>state</th>\n",
       "      <th>zip</th>\n",
       "      <th>lat</th>\n",
       "      <th>long</th>\n",
       "      <th>city_pop</th>\n",
       "      <th>job</th>\n",
       "      <th>dob</th>\n",
       "      <th>trans_num</th>\n",
       "      <th>unix_time</th>\n",
       "      <th>merch_lat</th>\n",
       "      <th>merch_long</th>\n",
       "      <th>is_fraud</th>\n",
       "    </tr>\n",
       "  </thead>\n",
       "  <tbody>\n",
       "    <tr>\n",
       "      <th>0</th>\n",
       "      <td>0</td>\n",
       "      <td>2019-01-01 00:00:18</td>\n",
       "      <td>2703186189652095</td>\n",
       "      <td>fraud_Rippin, Kub and Mann</td>\n",
       "      <td>misc_net</td>\n",
       "      <td>4.97</td>\n",
       "      <td>Jennifer</td>\n",
       "      <td>Banks</td>\n",
       "      <td>F</td>\n",
       "      <td>561 Perry Cove</td>\n",
       "      <td>Moravian Falls</td>\n",
       "      <td>NC</td>\n",
       "      <td>28654</td>\n",
       "      <td>36.0788</td>\n",
       "      <td>-81.1781</td>\n",
       "      <td>3495</td>\n",
       "      <td>Psychologist, counselling</td>\n",
       "      <td>1988-03-09</td>\n",
       "      <td>0b242abb623afc578575680df30655b9</td>\n",
       "      <td>1325376018</td>\n",
       "      <td>36.011293</td>\n",
       "      <td>-82.048315</td>\n",
       "      <td>0</td>\n",
       "    </tr>\n",
       "    <tr>\n",
       "      <th>1</th>\n",
       "      <td>1</td>\n",
       "      <td>2019-01-01 00:00:44</td>\n",
       "      <td>630423337322</td>\n",
       "      <td>fraud_Heller, Gutmann and Zieme</td>\n",
       "      <td>grocery_pos</td>\n",
       "      <td>107.23</td>\n",
       "      <td>Stephanie</td>\n",
       "      <td>Gill</td>\n",
       "      <td>F</td>\n",
       "      <td>43039 Riley Greens Suite 393</td>\n",
       "      <td>Orient</td>\n",
       "      <td>WA</td>\n",
       "      <td>99160</td>\n",
       "      <td>48.8878</td>\n",
       "      <td>-118.2105</td>\n",
       "      <td>149</td>\n",
       "      <td>Special educational needs teacher</td>\n",
       "      <td>1978-06-21</td>\n",
       "      <td>1f76529f8574734946361c461b024d99</td>\n",
       "      <td>1325376044</td>\n",
       "      <td>49.159047</td>\n",
       "      <td>-118.186462</td>\n",
       "      <td>0</td>\n",
       "    </tr>\n",
       "    <tr>\n",
       "      <th>2</th>\n",
       "      <td>2</td>\n",
       "      <td>2019-01-01 00:00:51</td>\n",
       "      <td>38859492057661</td>\n",
       "      <td>fraud_Lind-Buckridge</td>\n",
       "      <td>entertainment</td>\n",
       "      <td>220.11</td>\n",
       "      <td>Edward</td>\n",
       "      <td>Sanchez</td>\n",
       "      <td>M</td>\n",
       "      <td>594 White Dale Suite 530</td>\n",
       "      <td>Malad City</td>\n",
       "      <td>ID</td>\n",
       "      <td>83252</td>\n",
       "      <td>42.1808</td>\n",
       "      <td>-112.2620</td>\n",
       "      <td>4154</td>\n",
       "      <td>Nature conservation officer</td>\n",
       "      <td>1962-01-19</td>\n",
       "      <td>a1a22d70485983eac12b5b88dad1cf95</td>\n",
       "      <td>1325376051</td>\n",
       "      <td>43.150704</td>\n",
       "      <td>-112.154481</td>\n",
       "      <td>0</td>\n",
       "    </tr>\n",
       "    <tr>\n",
       "      <th>3</th>\n",
       "      <td>3</td>\n",
       "      <td>2019-01-01 00:01:16</td>\n",
       "      <td>3534093764340240</td>\n",
       "      <td>fraud_Kutch, Hermiston and Farrell</td>\n",
       "      <td>gas_transport</td>\n",
       "      <td>45.00</td>\n",
       "      <td>Jeremy</td>\n",
       "      <td>White</td>\n",
       "      <td>M</td>\n",
       "      <td>9443 Cynthia Court Apt. 038</td>\n",
       "      <td>Boulder</td>\n",
       "      <td>MT</td>\n",
       "      <td>59632</td>\n",
       "      <td>46.2306</td>\n",
       "      <td>-112.1138</td>\n",
       "      <td>1939</td>\n",
       "      <td>Patent attorney</td>\n",
       "      <td>1967-01-12</td>\n",
       "      <td>6b849c168bdad6f867558c3793159a81</td>\n",
       "      <td>1325376076</td>\n",
       "      <td>47.034331</td>\n",
       "      <td>-112.561071</td>\n",
       "      <td>0</td>\n",
       "    </tr>\n",
       "    <tr>\n",
       "      <th>4</th>\n",
       "      <td>4</td>\n",
       "      <td>2019-01-01 00:03:06</td>\n",
       "      <td>375534208663984</td>\n",
       "      <td>fraud_Keeling-Crist</td>\n",
       "      <td>misc_pos</td>\n",
       "      <td>41.96</td>\n",
       "      <td>Tyler</td>\n",
       "      <td>Garcia</td>\n",
       "      <td>M</td>\n",
       "      <td>408 Bradley Rest</td>\n",
       "      <td>Doe Hill</td>\n",
       "      <td>VA</td>\n",
       "      <td>24433</td>\n",
       "      <td>38.4207</td>\n",
       "      <td>-79.4629</td>\n",
       "      <td>99</td>\n",
       "      <td>Dance movement psychotherapist</td>\n",
       "      <td>1986-03-28</td>\n",
       "      <td>a41d7549acf90789359a9aa5346dcb46</td>\n",
       "      <td>1325376186</td>\n",
       "      <td>38.674999</td>\n",
       "      <td>-78.632459</td>\n",
       "      <td>0</td>\n",
       "    </tr>\n",
       "  </tbody>\n",
       "</table>\n",
       "</div>"
      ],
      "text/plain": [
       "   Unnamed: 0 trans_date_trans_time            cc_num  \\\n",
       "0           0   2019-01-01 00:00:18  2703186189652095   \n",
       "1           1   2019-01-01 00:00:44      630423337322   \n",
       "2           2   2019-01-01 00:00:51    38859492057661   \n",
       "3           3   2019-01-01 00:01:16  3534093764340240   \n",
       "4           4   2019-01-01 00:03:06   375534208663984   \n",
       "\n",
       "                             merchant       category     amt      first  \\\n",
       "0          fraud_Rippin, Kub and Mann       misc_net    4.97   Jennifer   \n",
       "1     fraud_Heller, Gutmann and Zieme    grocery_pos  107.23  Stephanie   \n",
       "2                fraud_Lind-Buckridge  entertainment  220.11     Edward   \n",
       "3  fraud_Kutch, Hermiston and Farrell  gas_transport   45.00     Jeremy   \n",
       "4                 fraud_Keeling-Crist       misc_pos   41.96      Tyler   \n",
       "\n",
       "      last gender                        street            city state    zip  \\\n",
       "0    Banks      F                561 Perry Cove  Moravian Falls    NC  28654   \n",
       "1     Gill      F  43039 Riley Greens Suite 393          Orient    WA  99160   \n",
       "2  Sanchez      M      594 White Dale Suite 530      Malad City    ID  83252   \n",
       "3    White      M   9443 Cynthia Court Apt. 038         Boulder    MT  59632   \n",
       "4   Garcia      M              408 Bradley Rest        Doe Hill    VA  24433   \n",
       "\n",
       "       lat      long  city_pop                                job         dob  \\\n",
       "0  36.0788  -81.1781      3495          Psychologist, counselling  1988-03-09   \n",
       "1  48.8878 -118.2105       149  Special educational needs teacher  1978-06-21   \n",
       "2  42.1808 -112.2620      4154        Nature conservation officer  1962-01-19   \n",
       "3  46.2306 -112.1138      1939                    Patent attorney  1967-01-12   \n",
       "4  38.4207  -79.4629        99     Dance movement psychotherapist  1986-03-28   \n",
       "\n",
       "                          trans_num   unix_time  merch_lat  merch_long  \\\n",
       "0  0b242abb623afc578575680df30655b9  1325376018  36.011293  -82.048315   \n",
       "1  1f76529f8574734946361c461b024d99  1325376044  49.159047 -118.186462   \n",
       "2  a1a22d70485983eac12b5b88dad1cf95  1325376051  43.150704 -112.154481   \n",
       "3  6b849c168bdad6f867558c3793159a81  1325376076  47.034331 -112.561071   \n",
       "4  a41d7549acf90789359a9aa5346dcb46  1325376186  38.674999  -78.632459   \n",
       "\n",
       "   is_fraud  \n",
       "0         0  \n",
       "1         0  \n",
       "2         0  \n",
       "3         0  \n",
       "4         0  "
      ]
     },
     "execution_count": 3,
     "metadata": {},
     "output_type": "execute_result"
    }
   ],
   "source": [
    "df_train = pd.read_csv('fraudTrain.csv')\n",
    "df_train.head()"
   ]
  },
  {
   "cell_type": "markdown",
   "metadata": {
    "id": "x-bgA-a0Pmws"
   },
   "source": [
    "#### 3. Exploratory Data Analysis"
   ]
  },
  {
   "cell_type": "code",
   "execution_count": 4,
   "metadata": {
    "id": "5SxmCrPgWakE"
   },
   "outputs": [],
   "source": [
    "df_train['trans_date_trans_time'] = pd.to_datetime(df_train['trans_date_trans_time'])\n",
    "\n",
    "# Extract the date and time components and create new columns\n",
    "df_train['trans_date'] = df_train['trans_date_trans_time'].dt.date\n",
    "df_train['trans_time'] = df_train['trans_date_trans_time'].dt.time"
   ]
  },
  {
   "cell_type": "code",
   "execution_count": 5,
   "metadata": {
    "colab": {
     "base_uri": "https://localhost:8080/"
    },
    "id": "bI72BRDWySet",
    "outputId": "c4b91c50-52ab-4ff8-ac35-dd8a099c3c25"
   },
   "outputs": [
    {
     "name": "stdout",
     "output_type": "stream",
     "text": [
      "<class 'pandas.core.frame.DataFrame'>\n",
      "RangeIndex: 555719 entries, 0 to 555718\n",
      "Data columns (total 23 columns):\n",
      " #   Column                 Non-Null Count   Dtype  \n",
      "---  ------                 --------------   -----  \n",
      " 0   Unnamed: 0             555719 non-null  int64  \n",
      " 1   trans_date_trans_time  555719 non-null  object \n",
      " 2   cc_num                 555719 non-null  int64  \n",
      " 3   merchant               555719 non-null  object \n",
      " 4   category               555719 non-null  object \n",
      " 5   amt                    555719 non-null  float64\n",
      " 6   first                  555719 non-null  object \n",
      " 7   last                   555719 non-null  object \n",
      " 8   gender                 555719 non-null  object \n",
      " 9   street                 555719 non-null  object \n",
      " 10  city                   555719 non-null  object \n",
      " 11  state                  555719 non-null  object \n",
      " 12  zip                    555719 non-null  int64  \n",
      " 13  lat                    555719 non-null  float64\n",
      " 14  long                   555719 non-null  float64\n",
      " 15  city_pop               555719 non-null  int64  \n",
      " 16  job                    555719 non-null  object \n",
      " 17  dob                    555719 non-null  object \n",
      " 18  trans_num              555719 non-null  object \n",
      " 19  unix_time              555719 non-null  int64  \n",
      " 20  merch_lat              555719 non-null  float64\n",
      " 21  merch_long             555719 non-null  float64\n",
      " 22  is_fraud               555719 non-null  int64  \n",
      "dtypes: float64(5), int64(6), object(12)\n",
      "memory usage: 97.5+ MB\n"
     ]
    }
   ],
   "source": [
    "df_test.info()"
   ]
  },
  {
   "cell_type": "code",
   "execution_count": 6,
   "metadata": {
    "colab": {
     "base_uri": "https://localhost:8080/"
    },
    "id": "cj6jQr-PyXPg",
    "outputId": "2348e157-eb4c-4080-e081-ebca4785bc96"
   },
   "outputs": [
    {
     "name": "stdout",
     "output_type": "stream",
     "text": [
      "<class 'pandas.core.frame.DataFrame'>\n",
      "RangeIndex: 1296675 entries, 0 to 1296674\n",
      "Data columns (total 25 columns):\n",
      " #   Column                 Non-Null Count    Dtype         \n",
      "---  ------                 --------------    -----         \n",
      " 0   Unnamed: 0             1296675 non-null  int64         \n",
      " 1   trans_date_trans_time  1296675 non-null  datetime64[ns]\n",
      " 2   cc_num                 1296675 non-null  int64         \n",
      " 3   merchant               1296675 non-null  object        \n",
      " 4   category               1296675 non-null  object        \n",
      " 5   amt                    1296675 non-null  float64       \n",
      " 6   first                  1296675 non-null  object        \n",
      " 7   last                   1296675 non-null  object        \n",
      " 8   gender                 1296675 non-null  object        \n",
      " 9   street                 1296675 non-null  object        \n",
      " 10  city                   1296675 non-null  object        \n",
      " 11  state                  1296675 non-null  object        \n",
      " 12  zip                    1296675 non-null  int64         \n",
      " 13  lat                    1296675 non-null  float64       \n",
      " 14  long                   1296675 non-null  float64       \n",
      " 15  city_pop               1296675 non-null  int64         \n",
      " 16  job                    1296675 non-null  object        \n",
      " 17  dob                    1296675 non-null  object        \n",
      " 18  trans_num              1296675 non-null  object        \n",
      " 19  unix_time              1296675 non-null  int64         \n",
      " 20  merch_lat              1296675 non-null  float64       \n",
      " 21  merch_long             1296675 non-null  float64       \n",
      " 22  is_fraud               1296675 non-null  int64         \n",
      " 23  trans_date             1296675 non-null  object        \n",
      " 24  trans_time             1296675 non-null  object        \n",
      "dtypes: datetime64[ns](1), float64(5), int64(6), object(13)\n",
      "memory usage: 247.3+ MB\n"
     ]
    }
   ],
   "source": [
    "df_train.info()"
   ]
  },
  {
   "cell_type": "markdown",
   "metadata": {
    "id": "VgcD3l9TP13Z"
   },
   "source": [
    "##### Describe data"
   ]
  },
  {
   "cell_type": "code",
   "execution_count": 7,
   "metadata": {
    "colab": {
     "base_uri": "https://localhost:8080/",
     "height": 300
    },
    "id": "F_1N8QU_ybwy",
    "outputId": "af5ccb45-144a-4464-fbb1-aecec5be1b8a"
   },
   "outputs": [
    {
     "data": {
      "text/html": [
       "<div>\n",
       "<style scoped>\n",
       "    .dataframe tbody tr th:only-of-type {\n",
       "        vertical-align: middle;\n",
       "    }\n",
       "\n",
       "    .dataframe tbody tr th {\n",
       "        vertical-align: top;\n",
       "    }\n",
       "\n",
       "    .dataframe thead th {\n",
       "        text-align: right;\n",
       "    }\n",
       "</style>\n",
       "<table border=\"1\" class=\"dataframe\">\n",
       "  <thead>\n",
       "    <tr style=\"text-align: right;\">\n",
       "      <th></th>\n",
       "      <th>Unnamed: 0</th>\n",
       "      <th>cc_num</th>\n",
       "      <th>amt</th>\n",
       "      <th>zip</th>\n",
       "      <th>lat</th>\n",
       "      <th>long</th>\n",
       "      <th>city_pop</th>\n",
       "      <th>unix_time</th>\n",
       "      <th>merch_lat</th>\n",
       "      <th>merch_long</th>\n",
       "      <th>is_fraud</th>\n",
       "    </tr>\n",
       "  </thead>\n",
       "  <tbody>\n",
       "    <tr>\n",
       "      <th>count</th>\n",
       "      <td>1.296675e+06</td>\n",
       "      <td>1.296675e+06</td>\n",
       "      <td>1.296675e+06</td>\n",
       "      <td>1.296675e+06</td>\n",
       "      <td>1.296675e+06</td>\n",
       "      <td>1.296675e+06</td>\n",
       "      <td>1.296675e+06</td>\n",
       "      <td>1.296675e+06</td>\n",
       "      <td>1.296675e+06</td>\n",
       "      <td>1.296675e+06</td>\n",
       "      <td>1.296675e+06</td>\n",
       "    </tr>\n",
       "    <tr>\n",
       "      <th>mean</th>\n",
       "      <td>6.483370e+05</td>\n",
       "      <td>4.171920e+17</td>\n",
       "      <td>7.035104e+01</td>\n",
       "      <td>4.880067e+04</td>\n",
       "      <td>3.853762e+01</td>\n",
       "      <td>-9.022634e+01</td>\n",
       "      <td>8.882444e+04</td>\n",
       "      <td>1.349244e+09</td>\n",
       "      <td>3.853734e+01</td>\n",
       "      <td>-9.022646e+01</td>\n",
       "      <td>5.788652e-03</td>\n",
       "    </tr>\n",
       "    <tr>\n",
       "      <th>std</th>\n",
       "      <td>3.743180e+05</td>\n",
       "      <td>1.308806e+18</td>\n",
       "      <td>1.603160e+02</td>\n",
       "      <td>2.689322e+04</td>\n",
       "      <td>5.075808e+00</td>\n",
       "      <td>1.375908e+01</td>\n",
       "      <td>3.019564e+05</td>\n",
       "      <td>1.284128e+07</td>\n",
       "      <td>5.109788e+00</td>\n",
       "      <td>1.377109e+01</td>\n",
       "      <td>7.586269e-02</td>\n",
       "    </tr>\n",
       "    <tr>\n",
       "      <th>min</th>\n",
       "      <td>0.000000e+00</td>\n",
       "      <td>6.041621e+10</td>\n",
       "      <td>1.000000e+00</td>\n",
       "      <td>1.257000e+03</td>\n",
       "      <td>2.002710e+01</td>\n",
       "      <td>-1.656723e+02</td>\n",
       "      <td>2.300000e+01</td>\n",
       "      <td>1.325376e+09</td>\n",
       "      <td>1.902779e+01</td>\n",
       "      <td>-1.666712e+02</td>\n",
       "      <td>0.000000e+00</td>\n",
       "    </tr>\n",
       "    <tr>\n",
       "      <th>25%</th>\n",
       "      <td>3.241685e+05</td>\n",
       "      <td>1.800429e+14</td>\n",
       "      <td>9.650000e+00</td>\n",
       "      <td>2.623700e+04</td>\n",
       "      <td>3.462050e+01</td>\n",
       "      <td>-9.679800e+01</td>\n",
       "      <td>7.430000e+02</td>\n",
       "      <td>1.338751e+09</td>\n",
       "      <td>3.473357e+01</td>\n",
       "      <td>-9.689728e+01</td>\n",
       "      <td>0.000000e+00</td>\n",
       "    </tr>\n",
       "    <tr>\n",
       "      <th>50%</th>\n",
       "      <td>6.483370e+05</td>\n",
       "      <td>3.521417e+15</td>\n",
       "      <td>4.752000e+01</td>\n",
       "      <td>4.817400e+04</td>\n",
       "      <td>3.935430e+01</td>\n",
       "      <td>-8.747690e+01</td>\n",
       "      <td>2.456000e+03</td>\n",
       "      <td>1.349250e+09</td>\n",
       "      <td>3.936568e+01</td>\n",
       "      <td>-8.743839e+01</td>\n",
       "      <td>0.000000e+00</td>\n",
       "    </tr>\n",
       "    <tr>\n",
       "      <th>75%</th>\n",
       "      <td>9.725055e+05</td>\n",
       "      <td>4.642255e+15</td>\n",
       "      <td>8.314000e+01</td>\n",
       "      <td>7.204200e+04</td>\n",
       "      <td>4.194040e+01</td>\n",
       "      <td>-8.015800e+01</td>\n",
       "      <td>2.032800e+04</td>\n",
       "      <td>1.359385e+09</td>\n",
       "      <td>4.195716e+01</td>\n",
       "      <td>-8.023680e+01</td>\n",
       "      <td>0.000000e+00</td>\n",
       "    </tr>\n",
       "    <tr>\n",
       "      <th>max</th>\n",
       "      <td>1.296674e+06</td>\n",
       "      <td>4.992346e+18</td>\n",
       "      <td>2.894890e+04</td>\n",
       "      <td>9.978300e+04</td>\n",
       "      <td>6.669330e+01</td>\n",
       "      <td>-6.795030e+01</td>\n",
       "      <td>2.906700e+06</td>\n",
       "      <td>1.371817e+09</td>\n",
       "      <td>6.751027e+01</td>\n",
       "      <td>-6.695090e+01</td>\n",
       "      <td>1.000000e+00</td>\n",
       "    </tr>\n",
       "  </tbody>\n",
       "</table>\n",
       "</div>"
      ],
      "text/plain": [
       "         Unnamed: 0        cc_num           amt           zip           lat  \\\n",
       "count  1.296675e+06  1.296675e+06  1.296675e+06  1.296675e+06  1.296675e+06   \n",
       "mean   6.483370e+05  4.171920e+17  7.035104e+01  4.880067e+04  3.853762e+01   \n",
       "std    3.743180e+05  1.308806e+18  1.603160e+02  2.689322e+04  5.075808e+00   \n",
       "min    0.000000e+00  6.041621e+10  1.000000e+00  1.257000e+03  2.002710e+01   \n",
       "25%    3.241685e+05  1.800429e+14  9.650000e+00  2.623700e+04  3.462050e+01   \n",
       "50%    6.483370e+05  3.521417e+15  4.752000e+01  4.817400e+04  3.935430e+01   \n",
       "75%    9.725055e+05  4.642255e+15  8.314000e+01  7.204200e+04  4.194040e+01   \n",
       "max    1.296674e+06  4.992346e+18  2.894890e+04  9.978300e+04  6.669330e+01   \n",
       "\n",
       "               long      city_pop     unix_time     merch_lat    merch_long  \\\n",
       "count  1.296675e+06  1.296675e+06  1.296675e+06  1.296675e+06  1.296675e+06   \n",
       "mean  -9.022634e+01  8.882444e+04  1.349244e+09  3.853734e+01 -9.022646e+01   \n",
       "std    1.375908e+01  3.019564e+05  1.284128e+07  5.109788e+00  1.377109e+01   \n",
       "min   -1.656723e+02  2.300000e+01  1.325376e+09  1.902779e+01 -1.666712e+02   \n",
       "25%   -9.679800e+01  7.430000e+02  1.338751e+09  3.473357e+01 -9.689728e+01   \n",
       "50%   -8.747690e+01  2.456000e+03  1.349250e+09  3.936568e+01 -8.743839e+01   \n",
       "75%   -8.015800e+01  2.032800e+04  1.359385e+09  4.195716e+01 -8.023680e+01   \n",
       "max   -6.795030e+01  2.906700e+06  1.371817e+09  6.751027e+01 -6.695090e+01   \n",
       "\n",
       "           is_fraud  \n",
       "count  1.296675e+06  \n",
       "mean   5.788652e-03  \n",
       "std    7.586269e-02  \n",
       "min    0.000000e+00  \n",
       "25%    0.000000e+00  \n",
       "50%    0.000000e+00  \n",
       "75%    0.000000e+00  \n",
       "max    1.000000e+00  "
      ]
     },
     "execution_count": 7,
     "metadata": {},
     "output_type": "execute_result"
    }
   ],
   "source": [
    "df_train.describe()"
   ]
  },
  {
   "cell_type": "code",
   "execution_count": 8,
   "metadata": {
    "colab": {
     "base_uri": "https://localhost:8080/",
     "height": 300
    },
    "id": "oVaoBE3eQAAt",
    "outputId": "a5f8687a-2480-44fa-ba72-173cbc372a3a"
   },
   "outputs": [
    {
     "data": {
      "text/html": [
       "<div>\n",
       "<style scoped>\n",
       "    .dataframe tbody tr th:only-of-type {\n",
       "        vertical-align: middle;\n",
       "    }\n",
       "\n",
       "    .dataframe tbody tr th {\n",
       "        vertical-align: top;\n",
       "    }\n",
       "\n",
       "    .dataframe thead th {\n",
       "        text-align: right;\n",
       "    }\n",
       "</style>\n",
       "<table border=\"1\" class=\"dataframe\">\n",
       "  <thead>\n",
       "    <tr style=\"text-align: right;\">\n",
       "      <th></th>\n",
       "      <th>Unnamed: 0</th>\n",
       "      <th>cc_num</th>\n",
       "      <th>amt</th>\n",
       "      <th>zip</th>\n",
       "      <th>lat</th>\n",
       "      <th>long</th>\n",
       "      <th>city_pop</th>\n",
       "      <th>unix_time</th>\n",
       "      <th>merch_lat</th>\n",
       "      <th>merch_long</th>\n",
       "      <th>is_fraud</th>\n",
       "    </tr>\n",
       "  </thead>\n",
       "  <tbody>\n",
       "    <tr>\n",
       "      <th>count</th>\n",
       "      <td>555719.000000</td>\n",
       "      <td>5.557190e+05</td>\n",
       "      <td>555719.000000</td>\n",
       "      <td>555719.000000</td>\n",
       "      <td>555719.000000</td>\n",
       "      <td>555719.000000</td>\n",
       "      <td>5.557190e+05</td>\n",
       "      <td>5.557190e+05</td>\n",
       "      <td>555719.000000</td>\n",
       "      <td>555719.000000</td>\n",
       "      <td>555719.000000</td>\n",
       "    </tr>\n",
       "    <tr>\n",
       "      <th>mean</th>\n",
       "      <td>277859.000000</td>\n",
       "      <td>4.178387e+17</td>\n",
       "      <td>69.392810</td>\n",
       "      <td>48842.628015</td>\n",
       "      <td>38.543253</td>\n",
       "      <td>-90.231325</td>\n",
       "      <td>8.822189e+04</td>\n",
       "      <td>1.380679e+09</td>\n",
       "      <td>38.542798</td>\n",
       "      <td>-90.231380</td>\n",
       "      <td>0.003860</td>\n",
       "    </tr>\n",
       "    <tr>\n",
       "      <th>std</th>\n",
       "      <td>160422.401459</td>\n",
       "      <td>1.309837e+18</td>\n",
       "      <td>156.745941</td>\n",
       "      <td>26855.283328</td>\n",
       "      <td>5.061336</td>\n",
       "      <td>13.721780</td>\n",
       "      <td>3.003909e+05</td>\n",
       "      <td>5.201104e+06</td>\n",
       "      <td>5.095829</td>\n",
       "      <td>13.733071</td>\n",
       "      <td>0.062008</td>\n",
       "    </tr>\n",
       "    <tr>\n",
       "      <th>min</th>\n",
       "      <td>0.000000</td>\n",
       "      <td>6.041621e+10</td>\n",
       "      <td>1.000000</td>\n",
       "      <td>1257.000000</td>\n",
       "      <td>20.027100</td>\n",
       "      <td>-165.672300</td>\n",
       "      <td>2.300000e+01</td>\n",
       "      <td>1.371817e+09</td>\n",
       "      <td>19.027422</td>\n",
       "      <td>-166.671575</td>\n",
       "      <td>0.000000</td>\n",
       "    </tr>\n",
       "    <tr>\n",
       "      <th>25%</th>\n",
       "      <td>138929.500000</td>\n",
       "      <td>1.800429e+14</td>\n",
       "      <td>9.630000</td>\n",
       "      <td>26292.000000</td>\n",
       "      <td>34.668900</td>\n",
       "      <td>-96.798000</td>\n",
       "      <td>7.410000e+02</td>\n",
       "      <td>1.376029e+09</td>\n",
       "      <td>34.755302</td>\n",
       "      <td>-96.905129</td>\n",
       "      <td>0.000000</td>\n",
       "    </tr>\n",
       "    <tr>\n",
       "      <th>50%</th>\n",
       "      <td>277859.000000</td>\n",
       "      <td>3.521417e+15</td>\n",
       "      <td>47.290000</td>\n",
       "      <td>48174.000000</td>\n",
       "      <td>39.371600</td>\n",
       "      <td>-87.476900</td>\n",
       "      <td>2.408000e+03</td>\n",
       "      <td>1.380762e+09</td>\n",
       "      <td>39.376593</td>\n",
       "      <td>-87.445204</td>\n",
       "      <td>0.000000</td>\n",
       "    </tr>\n",
       "    <tr>\n",
       "      <th>75%</th>\n",
       "      <td>416788.500000</td>\n",
       "      <td>4.635331e+15</td>\n",
       "      <td>83.010000</td>\n",
       "      <td>72011.000000</td>\n",
       "      <td>41.894800</td>\n",
       "      <td>-80.175200</td>\n",
       "      <td>1.968500e+04</td>\n",
       "      <td>1.385867e+09</td>\n",
       "      <td>41.954163</td>\n",
       "      <td>-80.264637</td>\n",
       "      <td>0.000000</td>\n",
       "    </tr>\n",
       "    <tr>\n",
       "      <th>max</th>\n",
       "      <td>555718.000000</td>\n",
       "      <td>4.992346e+18</td>\n",
       "      <td>22768.110000</td>\n",
       "      <td>99921.000000</td>\n",
       "      <td>65.689900</td>\n",
       "      <td>-67.950300</td>\n",
       "      <td>2.906700e+06</td>\n",
       "      <td>1.388534e+09</td>\n",
       "      <td>66.679297</td>\n",
       "      <td>-66.952026</td>\n",
       "      <td>1.000000</td>\n",
       "    </tr>\n",
       "  </tbody>\n",
       "</table>\n",
       "</div>"
      ],
      "text/plain": [
       "          Unnamed: 0        cc_num            amt            zip  \\\n",
       "count  555719.000000  5.557190e+05  555719.000000  555719.000000   \n",
       "mean   277859.000000  4.178387e+17      69.392810   48842.628015   \n",
       "std    160422.401459  1.309837e+18     156.745941   26855.283328   \n",
       "min         0.000000  6.041621e+10       1.000000    1257.000000   \n",
       "25%    138929.500000  1.800429e+14       9.630000   26292.000000   \n",
       "50%    277859.000000  3.521417e+15      47.290000   48174.000000   \n",
       "75%    416788.500000  4.635331e+15      83.010000   72011.000000   \n",
       "max    555718.000000  4.992346e+18   22768.110000   99921.000000   \n",
       "\n",
       "                 lat           long      city_pop     unix_time  \\\n",
       "count  555719.000000  555719.000000  5.557190e+05  5.557190e+05   \n",
       "mean       38.543253     -90.231325  8.822189e+04  1.380679e+09   \n",
       "std         5.061336      13.721780  3.003909e+05  5.201104e+06   \n",
       "min        20.027100    -165.672300  2.300000e+01  1.371817e+09   \n",
       "25%        34.668900     -96.798000  7.410000e+02  1.376029e+09   \n",
       "50%        39.371600     -87.476900  2.408000e+03  1.380762e+09   \n",
       "75%        41.894800     -80.175200  1.968500e+04  1.385867e+09   \n",
       "max        65.689900     -67.950300  2.906700e+06  1.388534e+09   \n",
       "\n",
       "           merch_lat     merch_long       is_fraud  \n",
       "count  555719.000000  555719.000000  555719.000000  \n",
       "mean       38.542798     -90.231380       0.003860  \n",
       "std         5.095829      13.733071       0.062008  \n",
       "min        19.027422    -166.671575       0.000000  \n",
       "25%        34.755302     -96.905129       0.000000  \n",
       "50%        39.376593     -87.445204       0.000000  \n",
       "75%        41.954163     -80.264637       0.000000  \n",
       "max        66.679297     -66.952026       1.000000  "
      ]
     },
     "execution_count": 8,
     "metadata": {},
     "output_type": "execute_result"
    }
   ],
   "source": [
    "df_test.describe()"
   ]
  },
  {
   "cell_type": "markdown",
   "metadata": {
    "id": "-BCBANTtPxyd"
   },
   "source": [
    "##### Missing values"
   ]
  },
  {
   "cell_type": "code",
   "execution_count": 9,
   "metadata": {
    "colab": {
     "base_uri": "https://localhost:8080/"
    },
    "id": "xdrXNhJkzDX0",
    "outputId": "c587f08b-82a8-46f6-ec60-89b4fa3e07a0"
   },
   "outputs": [
    {
     "data": {
      "text/plain": [
       "Unnamed: 0               0\n",
       "trans_date_trans_time    0\n",
       "cc_num                   0\n",
       "merchant                 0\n",
       "category                 0\n",
       "amt                      0\n",
       "first                    0\n",
       "last                     0\n",
       "gender                   0\n",
       "street                   0\n",
       "city                     0\n",
       "state                    0\n",
       "zip                      0\n",
       "lat                      0\n",
       "long                     0\n",
       "city_pop                 0\n",
       "job                      0\n",
       "dob                      0\n",
       "trans_num                0\n",
       "unix_time                0\n",
       "merch_lat                0\n",
       "merch_long               0\n",
       "is_fraud                 0\n",
       "trans_date               0\n",
       "trans_time               0\n",
       "dtype: int64"
      ]
     },
     "execution_count": 9,
     "metadata": {},
     "output_type": "execute_result"
    }
   ],
   "source": [
    "df_train.isnull().sum()"
   ]
  },
  {
   "cell_type": "code",
   "execution_count": 10,
   "metadata": {
    "colab": {
     "base_uri": "https://localhost:8080/"
    },
    "id": "l9HgOjz6CU9R",
    "outputId": "5be95a23-48ed-41ca-c325-effde1e1456e"
   },
   "outputs": [
    {
     "data": {
      "text/plain": [
       "Unnamed: 0               0\n",
       "trans_date_trans_time    0\n",
       "cc_num                   0\n",
       "merchant                 0\n",
       "category                 0\n",
       "amt                      0\n",
       "first                    0\n",
       "last                     0\n",
       "gender                   0\n",
       "street                   0\n",
       "city                     0\n",
       "state                    0\n",
       "zip                      0\n",
       "lat                      0\n",
       "long                     0\n",
       "city_pop                 0\n",
       "job                      0\n",
       "dob                      0\n",
       "trans_num                0\n",
       "unix_time                0\n",
       "merch_lat                0\n",
       "merch_long               0\n",
       "is_fraud                 0\n",
       "dtype: int64"
      ]
     },
     "execution_count": 10,
     "metadata": {},
     "output_type": "execute_result"
    }
   ],
   "source": [
    "df_test.isnull().sum()"
   ]
  },
  {
   "cell_type": "code",
   "execution_count": 11,
   "metadata": {
    "colab": {
     "base_uri": "https://localhost:8080/"
    },
    "id": "xNBg8sq3CfvR",
    "outputId": "a732c7c1-2c78-4ed5-cedc-0e89c9f89082"
   },
   "outputs": [
    {
     "data": {
      "text/plain": [
       "0.39"
      ]
     },
     "execution_count": 11,
     "metadata": {},
     "output_type": "execute_result"
    }
   ],
   "source": [
    "#Determine the percentage of fraud and valid transactions in the test dataset\n",
    "prec_is_fraud_test = round((df_test['is_fraud'].sum()/df_test['is_fraud'].count()) * 100, 2)\n",
    "prec_is_fraud_test"
   ]
  },
  {
   "cell_type": "code",
   "execution_count": 12,
   "metadata": {
    "colab": {
     "base_uri": "https://localhost:8080/"
    },
    "id": "eU5pGql9GCFs",
    "outputId": "f67a30db-7d83-4c19-b431-1d84d65760dd"
   },
   "outputs": [
    {
     "data": {
      "text/plain": [
       "0.58"
      ]
     },
     "execution_count": 12,
     "metadata": {},
     "output_type": "execute_result"
    }
   ],
   "source": [
    "#Determine the percentage of fraud and valid transactions in the train dataset\n",
    "prec_is_fraud_train = round((df_train['is_fraud'].sum()/df_train['is_fraud'].count()) * 100, 2)\n",
    "prec_is_fraud_train"
   ]
  },
  {
   "cell_type": "markdown",
   "metadata": {
    "id": "vsfrLOOsVBjH"
   },
   "source": [
    "#### Univariate Analysis"
   ]
  },
  {
   "cell_type": "code",
   "execution_count": 13,
   "metadata": {
    "colab": {
     "base_uri": "https://localhost:8080/",
     "height": 558
    },
    "id": "pUaMw8hqJ3e-",
    "outputId": "06c15b67-8a83-43d7-a20c-283b9b29c165"
   },
   "outputs": [
    {
     "data": {
      "image/png": "[encoded data removed]",
      "text/plain": [
       "<Figure size 432x288 with 1 Axes>"
      ]
     },
     "metadata": {
      "needs_background": "light"
     },
     "output_type": "display_data"
    }
   ],
   "source": [
    "sns.countplot(x = 'category', data = df_test, order=df_test['category'].value_counts(ascending=True).index)\n",
    "plt.title('Category distribution')\n",
    "plt.xticks(rotation=90)\n",
    "plt.show()"
   ]
  },
  {
   "cell_type": "code",
   "execution_count": 14,
   "metadata": {
    "colab": {
     "base_uri": "https://localhost:8080/",
     "height": 558
    },
    "id": "R5r_9Gv9WVCv",
    "outputId": "3cc15a65-a68d-49e8-ac72-e3822882ead6"
   },
   "outputs": [
    {
     "data": {
      "image/png": "[encoded data removed]",
      "text/plain": [
       "<Figure size 432x288 with 1 Axes>"
      ]
     },
     "metadata": {
      "needs_background": "light"
     },
     "output_type": "display_data"
    }
   ],
   "source": [
    "sns.countplot(x = 'category', data = df_train, order=df_train['category'].value_counts(ascending=True).index)\n",
    "plt.title('Category distribution')\n",
    "plt.xticks(rotation=90)\n",
    "plt.show()"
   ]
  },
  {
   "cell_type": "code",
   "execution_count": 15,
   "metadata": {
    "id": "onZSa8PwWjI3"
   },
   "outputs": [],
   "source": [
    "df_is_fraud_train = df_train[df_train['is_fraud'] == 1]\n",
    "df_is_fraud_test = df_test[df_test['is_fraud'] == 1]"
   ]
  },
  {
   "cell_type": "code",
   "execution_count": 16,
   "metadata": {
    "colab": {
     "base_uri": "https://localhost:8080/",
     "height": 558
    },
    "id": "93Mdq5OWX_8l",
    "outputId": "1e03dd4f-cf08-4496-bd06-b5ea2bdc946f"
   },
   "outputs": [
    {
     "data": {
      "image/png": "[encoded data removed]",
      "text/plain": [
       "<Figure size 432x288 with 1 Axes>"
      ]
     },
     "metadata": {
      "needs_background": "light"
     },
     "output_type": "display_data"
    }
   ],
   "source": [
    "sns.countplot(x = 'category', data = df_is_fraud_train, order=df_is_fraud_train['category'].value_counts(ascending=True).index)\n",
    "plt.title('Train Category distribution fraudulent transaction')\n",
    "plt.xticks(rotation=90)\n",
    "plt.show()"
   ]
  },
  {
   "cell_type": "code",
   "execution_count": 17,
   "metadata": {
    "colab": {
     "base_uri": "https://localhost:8080/",
     "height": 558
    },
    "id": "7WLMS8oJYM2U",
    "outputId": "b492bf77-c75b-43e7-9793-c0c598df0b82"
   },
   "outputs": [
    {
     "data": {
      "image/png": "[encoded data removed]",
      "text/plain": [
       "<Figure size 432x288 with 1 Axes>"
      ]
     },
     "metadata": {
      "needs_background": "light"
     },
     "output_type": "display_data"
    }
   ],
   "source": [
    "sns.countplot(x = 'category', data = df_is_fraud_test, order=df_is_fraud_test['category'].value_counts(ascending=True).index)\n",
    "plt.title('Test Category distribution fraudulent transaction')\n",
    "plt.xticks(rotation=90)\n",
    "plt.show()"
   ]
  },
  {
   "cell_type": "markdown",
   "metadata": {
    "id": "Y-HV9d9DdZRZ"
   },
   "source": [
    "By examining the graph mentioned above, we can see that the test and training dates are similar, with the exception that their count values diverge."
   ]
  },
  {
   "cell_type": "code",
   "execution_count": 18,
   "metadata": {
    "colab": {
     "base_uri": "https://localhost:8080/",
     "height": 238
    },
    "id": "Av65T3B_oHy7",
    "outputId": "fc79ff94-0fb8-4d01-f1a4-8629c33e63c7"
   },
   "outputs": [
    {
     "data": {
      "text/html": [
       "<div>\n",
       "<style scoped>\n",
       "    .dataframe tbody tr th:only-of-type {\n",
       "        vertical-align: middle;\n",
       "    }\n",
       "\n",
       "    .dataframe tbody tr th {\n",
       "        vertical-align: top;\n",
       "    }\n",
       "\n",
       "    .dataframe thead th {\n",
       "        text-align: right;\n",
       "    }\n",
       "</style>\n",
       "<table border=\"1\" class=\"dataframe\">\n",
       "  <thead>\n",
       "    <tr style=\"text-align: right;\">\n",
       "      <th></th>\n",
       "      <th>Count</th>\n",
       "      <th>Total Amount</th>\n",
       "    </tr>\n",
       "    <tr>\n",
       "      <th>category</th>\n",
       "      <th></th>\n",
       "      <th></th>\n",
       "    </tr>\n",
       "  </thead>\n",
       "  <tbody>\n",
       "    <tr>\n",
       "      <th>entertainment</th>\n",
       "      <td>233</td>\n",
       "      <td>117323.79</td>\n",
       "    </tr>\n",
       "    <tr>\n",
       "      <th>food_dining</th>\n",
       "      <td>151</td>\n",
       "      <td>18131.62</td>\n",
       "    </tr>\n",
       "    <tr>\n",
       "      <th>gas_transport</th>\n",
       "      <td>618</td>\n",
       "      <td>7594.11</td>\n",
       "    </tr>\n",
       "    <tr>\n",
       "      <th>grocery_net</th>\n",
       "      <td>134</td>\n",
       "      <td>1629.82</td>\n",
       "    </tr>\n",
       "    <tr>\n",
       "      <th>grocery_pos</th>\n",
       "      <td>1743</td>\n",
       "      <td>543797.90</td>\n",
       "    </tr>\n",
       "  </tbody>\n",
       "</table>\n",
       "</div>"
      ],
      "text/plain": [
       "               Count  Total Amount\n",
       "category                          \n",
       "entertainment    233     117323.79\n",
       "food_dining      151      18131.62\n",
       "gas_transport    618       7594.11\n",
       "grocery_net      134       1629.82\n",
       "grocery_pos     1743     543797.90"
      ]
     },
     "execution_count": 18,
     "metadata": {},
     "output_type": "execute_result"
    }
   ],
   "source": [
    "grouped_df = df_is_fraud_train.groupby('category').agg({'category': 'count', 'amt': 'sum'})\n",
    "grouped_df.columns = ['Count', 'Total Amount']\n",
    "grouped_df.head()"
   ]
  },
  {
   "cell_type": "code",
   "execution_count": 19,
   "metadata": {
    "colab": {
     "base_uri": "https://localhost:8080/",
     "height": 558
    },
    "id": "i6setbH4a0Kx",
    "outputId": "cf12140f-0e3d-48b8-a9ca-3b0e0949d0da"
   },
   "outputs": [
    {
     "data": {
      "image/png": "[encoded data removed]",
      "text/plain": [
       "<Figure size 432x288 with 1 Axes>"
      ]
     },
     "metadata": {
      "needs_background": "light"
     },
     "output_type": "display_data"
    }
   ],
   "source": [
    "grouped_df.sort_values(by='Total Amount')['Total Amount'].plot(kind='bar')\n",
    "#sns.displot(grouped_df, x= 'Total Amount')\n",
    "plt.title('Train Category distribution fraudulent Amount')\n",
    "plt.xticks(rotation=90)\n",
    "plt.show()"
   ]
  },
  {
   "cell_type": "code",
   "execution_count": 20,
   "metadata": {
    "colab": {
     "base_uri": "https://localhost:8080/",
     "height": 565
    },
    "id": "QrEWwiDb6eqy",
    "outputId": "e57bb045-f8d5-4885-993e-6a6ebe09e101"
   },
   "outputs": [
    {
     "data": {
      "text/html": [
       "<div>\n",
       "<style scoped>\n",
       "    .dataframe tbody tr th:only-of-type {\n",
       "        vertical-align: middle;\n",
       "    }\n",
       "\n",
       "    .dataframe tbody tr th {\n",
       "        vertical-align: top;\n",
       "    }\n",
       "\n",
       "    .dataframe thead th {\n",
       "        text-align: right;\n",
       "    }\n",
       "</style>\n",
       "<table border=\"1\" class=\"dataframe\">\n",
       "  <thead>\n",
       "    <tr style=\"text-align: right;\">\n",
       "      <th></th>\n",
       "      <th>Unnamed: 0</th>\n",
       "      <th>trans_date_trans_time</th>\n",
       "      <th>cc_num</th>\n",
       "      <th>merchant</th>\n",
       "      <th>category</th>\n",
       "      <th>amt</th>\n",
       "      <th>first</th>\n",
       "      <th>last</th>\n",
       "      <th>gender</th>\n",
       "      <th>street</th>\n",
       "      <th>city</th>\n",
       "      <th>state</th>\n",
       "      <th>zip</th>\n",
       "      <th>lat</th>\n",
       "      <th>long</th>\n",
       "      <th>city_pop</th>\n",
       "      <th>job</th>\n",
       "      <th>dob</th>\n",
       "      <th>trans_num</th>\n",
       "      <th>unix_time</th>\n",
       "      <th>merch_lat</th>\n",
       "      <th>merch_long</th>\n",
       "      <th>is_fraud</th>\n",
       "      <th>trans_date</th>\n",
       "      <th>trans_time</th>\n",
       "    </tr>\n",
       "  </thead>\n",
       "  <tbody>\n",
       "    <tr>\n",
       "      <th>0</th>\n",
       "      <td>0</td>\n",
       "      <td>2019-01-01 00:00:18</td>\n",
       "      <td>2703186189652095</td>\n",
       "      <td>fraud_Rippin, Kub and Mann</td>\n",
       "      <td>misc_net</td>\n",
       "      <td>4.97</td>\n",
       "      <td>Jennifer</td>\n",
       "      <td>Banks</td>\n",
       "      <td>F</td>\n",
       "      <td>561 Perry Cove</td>\n",
       "      <td>Moravian Falls</td>\n",
       "      <td>NC</td>\n",
       "      <td>28654</td>\n",
       "      <td>36.0788</td>\n",
       "      <td>-81.1781</td>\n",
       "      <td>3495</td>\n",
       "      <td>Psychologist, counselling</td>\n",
       "      <td>1988-03-09</td>\n",
       "      <td>0b242abb623afc578575680df30655b9</td>\n",
       "      <td>1325376018</td>\n",
       "      <td>36.011293</td>\n",
       "      <td>-82.048315</td>\n",
       "      <td>0</td>\n",
       "      <td>2019-01-01</td>\n",
       "      <td>00:00:18</td>\n",
       "    </tr>\n",
       "    <tr>\n",
       "      <th>1</th>\n",
       "      <td>1</td>\n",
       "      <td>2019-01-01 00:00:44</td>\n",
       "      <td>630423337322</td>\n",
       "      <td>fraud_Heller, Gutmann and Zieme</td>\n",
       "      <td>grocery_pos</td>\n",
       "      <td>107.23</td>\n",
       "      <td>Stephanie</td>\n",
       "      <td>Gill</td>\n",
       "      <td>F</td>\n",
       "      <td>43039 Riley Greens Suite 393</td>\n",
       "      <td>Orient</td>\n",
       "      <td>WA</td>\n",
       "      <td>99160</td>\n",
       "      <td>48.8878</td>\n",
       "      <td>-118.2105</td>\n",
       "      <td>149</td>\n",
       "      <td>Special educational needs teacher</td>\n",
       "      <td>1978-06-21</td>\n",
       "      <td>1f76529f8574734946361c461b024d99</td>\n",
       "      <td>1325376044</td>\n",
       "      <td>49.159047</td>\n",
       "      <td>-118.186462</td>\n",
       "      <td>0</td>\n",
       "      <td>2019-01-01</td>\n",
       "      <td>00:00:44</td>\n",
       "    </tr>\n",
       "    <tr>\n",
       "      <th>2</th>\n",
       "      <td>2</td>\n",
       "      <td>2019-01-01 00:00:51</td>\n",
       "      <td>38859492057661</td>\n",
       "      <td>fraud_Lind-Buckridge</td>\n",
       "      <td>entertainment</td>\n",
       "      <td>220.11</td>\n",
       "      <td>Edward</td>\n",
       "      <td>Sanchez</td>\n",
       "      <td>M</td>\n",
       "      <td>594 White Dale Suite 530</td>\n",
       "      <td>Malad City</td>\n",
       "      <td>ID</td>\n",
       "      <td>83252</td>\n",
       "      <td>42.1808</td>\n",
       "      <td>-112.2620</td>\n",
       "      <td>4154</td>\n",
       "      <td>Nature conservation officer</td>\n",
       "      <td>1962-01-19</td>\n",
       "      <td>a1a22d70485983eac12b5b88dad1cf95</td>\n",
       "      <td>1325376051</td>\n",
       "      <td>43.150704</td>\n",
       "      <td>-112.154481</td>\n",
       "      <td>0</td>\n",
       "      <td>2019-01-01</td>\n",
       "      <td>00:00:51</td>\n",
       "    </tr>\n",
       "    <tr>\n",
       "      <th>3</th>\n",
       "      <td>3</td>\n",
       "      <td>2019-01-01 00:01:16</td>\n",
       "      <td>3534093764340240</td>\n",
       "      <td>fraud_Kutch, Hermiston and Farrell</td>\n",
       "      <td>gas_transport</td>\n",
       "      <td>45.00</td>\n",
       "      <td>Jeremy</td>\n",
       "      <td>White</td>\n",
       "      <td>M</td>\n",
       "      <td>9443 Cynthia Court Apt. 038</td>\n",
       "      <td>Boulder</td>\n",
       "      <td>MT</td>\n",
       "      <td>59632</td>\n",
       "      <td>46.2306</td>\n",
       "      <td>-112.1138</td>\n",
       "      <td>1939</td>\n",
       "      <td>Patent attorney</td>\n",
       "      <td>1967-01-12</td>\n",
       "      <td>6b849c168bdad6f867558c3793159a81</td>\n",
       "      <td>1325376076</td>\n",
       "      <td>47.034331</td>\n",
       "      <td>-112.561071</td>\n",
       "      <td>0</td>\n",
       "      <td>2019-01-01</td>\n",
       "      <td>00:01:16</td>\n",
       "    </tr>\n",
       "    <tr>\n",
       "      <th>4</th>\n",
       "      <td>4</td>\n",
       "      <td>2019-01-01 00:03:06</td>\n",
       "      <td>375534208663984</td>\n",
       "      <td>fraud_Keeling-Crist</td>\n",
       "      <td>misc_pos</td>\n",
       "      <td>41.96</td>\n",
       "      <td>Tyler</td>\n",
       "      <td>Garcia</td>\n",
       "      <td>M</td>\n",
       "      <td>408 Bradley Rest</td>\n",
       "      <td>Doe Hill</td>\n",
       "      <td>VA</td>\n",
       "      <td>24433</td>\n",
       "      <td>38.4207</td>\n",
       "      <td>-79.4629</td>\n",
       "      <td>99</td>\n",
       "      <td>Dance movement psychotherapist</td>\n",
       "      <td>1986-03-28</td>\n",
       "      <td>a41d7549acf90789359a9aa5346dcb46</td>\n",
       "      <td>1325376186</td>\n",
       "      <td>38.674999</td>\n",
       "      <td>-78.632459</td>\n",
       "      <td>0</td>\n",
       "      <td>2019-01-01</td>\n",
       "      <td>00:03:06</td>\n",
       "    </tr>\n",
       "  </tbody>\n",
       "</table>\n",
       "</div>"
      ],
      "text/plain": [
       "   Unnamed: 0 trans_date_trans_time            cc_num  \\\n",
       "0           0   2019-01-01 00:00:18  2703186189652095   \n",
       "1           1   2019-01-01 00:00:44      630423337322   \n",
       "2           2   2019-01-01 00:00:51    38859492057661   \n",
       "3           3   2019-01-01 00:01:16  3534093764340240   \n",
       "4           4   2019-01-01 00:03:06   375534208663984   \n",
       "\n",
       "                             merchant       category     amt      first  \\\n",
       "0          fraud_Rippin, Kub and Mann       misc_net    4.97   Jennifer   \n",
       "1     fraud_Heller, Gutmann and Zieme    grocery_pos  107.23  Stephanie   \n",
       "2                fraud_Lind-Buckridge  entertainment  220.11     Edward   \n",
       "3  fraud_Kutch, Hermiston and Farrell  gas_transport   45.00     Jeremy   \n",
       "4                 fraud_Keeling-Crist       misc_pos   41.96      Tyler   \n",
       "\n",
       "      last gender                        street            city state    zip  \\\n",
       "0    Banks      F                561 Perry Cove  Moravian Falls    NC  28654   \n",
       "1     Gill      F  43039 Riley Greens Suite 393          Orient    WA  99160   \n",
       "2  Sanchez      M      594 White Dale Suite 530      Malad City    ID  83252   \n",
       "3    White      M   9443 Cynthia Court Apt. 038         Boulder    MT  59632   \n",
       "4   Garcia      M              408 Bradley Rest        Doe Hill    VA  24433   \n",
       "\n",
       "       lat      long  city_pop                                job         dob  \\\n",
       "0  36.0788  -81.1781      3495          Psychologist, counselling  1988-03-09   \n",
       "1  48.8878 -118.2105       149  Special educational needs teacher  1978-06-21   \n",
       "2  42.1808 -112.2620      4154        Nature conservation officer  1962-01-19   \n",
       "3  46.2306 -112.1138      1939                    Patent attorney  1967-01-12   \n",
       "4  38.4207  -79.4629        99     Dance movement psychotherapist  1986-03-28   \n",
       "\n",
       "                          trans_num   unix_time  merch_lat  merch_long  \\\n",
       "0  0b242abb623afc578575680df30655b9  1325376018  36.011293  -82.048315   \n",
       "1  1f76529f8574734946361c461b024d99  1325376044  49.159047 -118.186462   \n",
       "2  a1a22d70485983eac12b5b88dad1cf95  1325376051  43.150704 -112.154481   \n",
       "3  6b849c168bdad6f867558c3793159a81  1325376076  47.034331 -112.561071   \n",
       "4  a41d7549acf90789359a9aa5346dcb46  1325376186  38.674999  -78.632459   \n",
       "\n",
       "   is_fraud  trans_date trans_time  \n",
       "0         0  2019-01-01   00:00:18  \n",
       "1         0  2019-01-01   00:00:44  \n",
       "2         0  2019-01-01   00:00:51  \n",
       "3         0  2019-01-01   00:01:16  \n",
       "4         0  2019-01-01   00:03:06  "
      ]
     },
     "execution_count": 20,
     "metadata": {},
     "output_type": "execute_result"
    }
   ],
   "source": [
    "df_train.head()"
   ]
  },
  {
   "cell_type": "code",
   "execution_count": 21,
   "metadata": {
    "colab": {
     "base_uri": "https://localhost:8080/",
     "height": 489
    },
    "id": "2NslbhGW6d6L",
    "outputId": "a70fbd1a-c7b7-4eb8-e1e9-1b745625a604"
   },
   "outputs": [
    {
     "data": {
      "text/plain": [
       "Text(0, 0.5, 'Frequency')"
      ]
     },
     "execution_count": 21,
     "metadata": {},
     "output_type": "execute_result"
    },
    {
     "data": {
      "image/png": "[encoded data removed]",
      "text/plain": [
       "<Figure size 432x288 with 1 Axes>"
      ]
     },
     "metadata": {
      "needs_background": "light"
     },
     "output_type": "display_data"
    }
   ],
   "source": [
    "count_classes = pd.value_counts(df_train['is_fraud'], sort = True)\n",
    "\n",
    "count_classes.plot(kind = 'bar', rot=0)\n",
    "\n",
    "plt.title(\"Transaction Class Distribution\")\n",
    "\n",
    "plt.xlabel(\"Class\")\n",
    "\n",
    "plt.ylabel(\"Frequency\")"
   ]
  },
  {
   "cell_type": "code",
   "execution_count": 22,
   "metadata": {
    "colab": {
     "base_uri": "https://localhost:8080/",
     "height": 565
    },
    "id": "3608HmFYdQBu",
    "outputId": "7b680f17-5c1d-4c19-e181-1533b4191c74"
   },
   "outputs": [
    {
     "data": {
      "text/html": [
       "<div>\n",
       "<style scoped>\n",
       "    .dataframe tbody tr th:only-of-type {\n",
       "        vertical-align: middle;\n",
       "    }\n",
       "\n",
       "    .dataframe tbody tr th {\n",
       "        vertical-align: top;\n",
       "    }\n",
       "\n",
       "    .dataframe thead th {\n",
       "        text-align: right;\n",
       "    }\n",
       "</style>\n",
       "<table border=\"1\" class=\"dataframe\">\n",
       "  <thead>\n",
       "    <tr style=\"text-align: right;\">\n",
       "      <th></th>\n",
       "      <th>Unnamed: 0</th>\n",
       "      <th>trans_date_trans_time</th>\n",
       "      <th>cc_num</th>\n",
       "      <th>merchant</th>\n",
       "      <th>category</th>\n",
       "      <th>amt</th>\n",
       "      <th>first</th>\n",
       "      <th>last</th>\n",
       "      <th>gender</th>\n",
       "      <th>street</th>\n",
       "      <th>city</th>\n",
       "      <th>state</th>\n",
       "      <th>zip</th>\n",
       "      <th>lat</th>\n",
       "      <th>long</th>\n",
       "      <th>city_pop</th>\n",
       "      <th>job</th>\n",
       "      <th>dob</th>\n",
       "      <th>trans_num</th>\n",
       "      <th>unix_time</th>\n",
       "      <th>merch_lat</th>\n",
       "      <th>merch_long</th>\n",
       "      <th>is_fraud</th>\n",
       "      <th>trans_date</th>\n",
       "      <th>trans_time</th>\n",
       "      <th>trans_year</th>\n",
       "      <th>trans_month</th>\n",
       "      <th>trans_day</th>\n",
       "      <th>trans_hour</th>\n",
       "      <th>trans_minute</th>\n",
       "      <th>trans_second</th>\n",
       "      <th>total_second</th>\n",
       "      <th>dob_year</th>\n",
       "      <th>dob_month</th>\n",
       "      <th>dob_day</th>\n",
       "      <th>len_count_cc_num</th>\n",
       "    </tr>\n",
       "  </thead>\n",
       "  <tbody>\n",
       "    <tr>\n",
       "      <th>0</th>\n",
       "      <td>0</td>\n",
       "      <td>2019-01-01 00:00:18</td>\n",
       "      <td>2703186189652095</td>\n",
       "      <td>fraud_Rippin, Kub and Mann</td>\n",
       "      <td>misc_net</td>\n",
       "      <td>4.97</td>\n",
       "      <td>Jennifer</td>\n",
       "      <td>Banks</td>\n",
       "      <td>F</td>\n",
       "      <td>561 Perry Cove</td>\n",
       "      <td>Moravian Falls</td>\n",
       "      <td>NC</td>\n",
       "      <td>28654</td>\n",
       "      <td>36.0788</td>\n",
       "      <td>-81.1781</td>\n",
       "      <td>3495</td>\n",
       "      <td>Psychologist, counselling</td>\n",
       "      <td>1988-03-09</td>\n",
       "      <td>0b242abb623afc578575680df30655b9</td>\n",
       "      <td>1325376018</td>\n",
       "      <td>36.011293</td>\n",
       "      <td>-82.048315</td>\n",
       "      <td>0</td>\n",
       "      <td>2019-01-01</td>\n",
       "      <td>00:00:18</td>\n",
       "      <td>2019</td>\n",
       "      <td>1</td>\n",
       "      <td>1</td>\n",
       "      <td>0</td>\n",
       "      <td>0</td>\n",
       "      <td>18</td>\n",
       "      <td>18</td>\n",
       "      <td>1988</td>\n",
       "      <td>3</td>\n",
       "      <td>9</td>\n",
       "      <td>16</td>\n",
       "    </tr>\n",
       "    <tr>\n",
       "      <th>1</th>\n",
       "      <td>1</td>\n",
       "      <td>2019-01-01 00:00:44</td>\n",
       "      <td>630423337322</td>\n",
       "      <td>fraud_Heller, Gutmann and Zieme</td>\n",
       "      <td>grocery_pos</td>\n",
       "      <td>107.23</td>\n",
       "      <td>Stephanie</td>\n",
       "      <td>Gill</td>\n",
       "      <td>F</td>\n",
       "      <td>43039 Riley Greens Suite 393</td>\n",
       "      <td>Orient</td>\n",
       "      <td>WA</td>\n",
       "      <td>99160</td>\n",
       "      <td>48.8878</td>\n",
       "      <td>-118.2105</td>\n",
       "      <td>149</td>\n",
       "      <td>Special educational needs teacher</td>\n",
       "      <td>1978-06-21</td>\n",
       "      <td>1f76529f8574734946361c461b024d99</td>\n",
       "      <td>1325376044</td>\n",
       "      <td>49.159047</td>\n",
       "      <td>-118.186462</td>\n",
       "      <td>0</td>\n",
       "      <td>2019-01-01</td>\n",
       "      <td>00:00:44</td>\n",
       "      <td>2019</td>\n",
       "      <td>1</td>\n",
       "      <td>1</td>\n",
       "      <td>0</td>\n",
       "      <td>0</td>\n",
       "      <td>44</td>\n",
       "      <td>44</td>\n",
       "      <td>1978</td>\n",
       "      <td>6</td>\n",
       "      <td>21</td>\n",
       "      <td>12</td>\n",
       "    </tr>\n",
       "    <tr>\n",
       "      <th>2</th>\n",
       "      <td>2</td>\n",
       "      <td>2019-01-01 00:00:51</td>\n",
       "      <td>38859492057661</td>\n",
       "      <td>fraud_Lind-Buckridge</td>\n",
       "      <td>entertainment</td>\n",
       "      <td>220.11</td>\n",
       "      <td>Edward</td>\n",
       "      <td>Sanchez</td>\n",
       "      <td>M</td>\n",
       "      <td>594 White Dale Suite 530</td>\n",
       "      <td>Malad City</td>\n",
       "      <td>ID</td>\n",
       "      <td>83252</td>\n",
       "      <td>42.1808</td>\n",
       "      <td>-112.2620</td>\n",
       "      <td>4154</td>\n",
       "      <td>Nature conservation officer</td>\n",
       "      <td>1962-01-19</td>\n",
       "      <td>a1a22d70485983eac12b5b88dad1cf95</td>\n",
       "      <td>1325376051</td>\n",
       "      <td>43.150704</td>\n",
       "      <td>-112.154481</td>\n",
       "      <td>0</td>\n",
       "      <td>2019-01-01</td>\n",
       "      <td>00:00:51</td>\n",
       "      <td>2019</td>\n",
       "      <td>1</td>\n",
       "      <td>1</td>\n",
       "      <td>0</td>\n",
       "      <td>0</td>\n",
       "      <td>51</td>\n",
       "      <td>51</td>\n",
       "      <td>1962</td>\n",
       "      <td>1</td>\n",
       "      <td>19</td>\n",
       "      <td>14</td>\n",
       "    </tr>\n",
       "    <tr>\n",
       "      <th>3</th>\n",
       "      <td>3</td>\n",
       "      <td>2019-01-01 00:01:16</td>\n",
       "      <td>3534093764340240</td>\n",
       "      <td>fraud_Kutch, Hermiston and Farrell</td>\n",
       "      <td>gas_transport</td>\n",
       "      <td>45.00</td>\n",
       "      <td>Jeremy</td>\n",
       "      <td>White</td>\n",
       "      <td>M</td>\n",
       "      <td>9443 Cynthia Court Apt. 038</td>\n",
       "      <td>Boulder</td>\n",
       "      <td>MT</td>\n",
       "      <td>59632</td>\n",
       "      <td>46.2306</td>\n",
       "      <td>-112.1138</td>\n",
       "      <td>1939</td>\n",
       "      <td>Patent attorney</td>\n",
       "      <td>1967-01-12</td>\n",
       "      <td>6b849c168bdad6f867558c3793159a81</td>\n",
       "      <td>1325376076</td>\n",
       "      <td>47.034331</td>\n",
       "      <td>-112.561071</td>\n",
       "      <td>0</td>\n",
       "      <td>2019-01-01</td>\n",
       "      <td>00:01:16</td>\n",
       "      <td>2019</td>\n",
       "      <td>1</td>\n",
       "      <td>1</td>\n",
       "      <td>0</td>\n",
       "      <td>1</td>\n",
       "      <td>16</td>\n",
       "      <td>76</td>\n",
       "      <td>1967</td>\n",
       "      <td>1</td>\n",
       "      <td>12</td>\n",
       "      <td>16</td>\n",
       "    </tr>\n",
       "    <tr>\n",
       "      <th>4</th>\n",
       "      <td>4</td>\n",
       "      <td>2019-01-01 00:03:06</td>\n",
       "      <td>375534208663984</td>\n",
       "      <td>fraud_Keeling-Crist</td>\n",
       "      <td>misc_pos</td>\n",
       "      <td>41.96</td>\n",
       "      <td>Tyler</td>\n",
       "      <td>Garcia</td>\n",
       "      <td>M</td>\n",
       "      <td>408 Bradley Rest</td>\n",
       "      <td>Doe Hill</td>\n",
       "      <td>VA</td>\n",
       "      <td>24433</td>\n",
       "      <td>38.4207</td>\n",
       "      <td>-79.4629</td>\n",
       "      <td>99</td>\n",
       "      <td>Dance movement psychotherapist</td>\n",
       "      <td>1986-03-28</td>\n",
       "      <td>a41d7549acf90789359a9aa5346dcb46</td>\n",
       "      <td>1325376186</td>\n",
       "      <td>38.674999</td>\n",
       "      <td>-78.632459</td>\n",
       "      <td>0</td>\n",
       "      <td>2019-01-01</td>\n",
       "      <td>00:03:06</td>\n",
       "      <td>2019</td>\n",
       "      <td>1</td>\n",
       "      <td>1</td>\n",
       "      <td>0</td>\n",
       "      <td>3</td>\n",
       "      <td>6</td>\n",
       "      <td>186</td>\n",
       "      <td>1986</td>\n",
       "      <td>3</td>\n",
       "      <td>28</td>\n",
       "      <td>15</td>\n",
       "    </tr>\n",
       "  </tbody>\n",
       "</table>\n",
       "</div>"
      ],
      "text/plain": [
       "   Unnamed: 0 trans_date_trans_time            cc_num  \\\n",
       "0           0   2019-01-01 00:00:18  2703186189652095   \n",
       "1           1   2019-01-01 00:00:44      630423337322   \n",
       "2           2   2019-01-01 00:00:51    38859492057661   \n",
       "3           3   2019-01-01 00:01:16  3534093764340240   \n",
       "4           4   2019-01-01 00:03:06   375534208663984   \n",
       "\n",
       "                             merchant       category     amt      first  \\\n",
       "0          fraud_Rippin, Kub and Mann       misc_net    4.97   Jennifer   \n",
       "1     fraud_Heller, Gutmann and Zieme    grocery_pos  107.23  Stephanie   \n",
       "2                fraud_Lind-Buckridge  entertainment  220.11     Edward   \n",
       "3  fraud_Kutch, Hermiston and Farrell  gas_transport   45.00     Jeremy   \n",
       "4                 fraud_Keeling-Crist       misc_pos   41.96      Tyler   \n",
       "\n",
       "      last gender                        street            city state    zip  \\\n",
       "0    Banks      F                561 Perry Cove  Moravian Falls    NC  28654   \n",
       "1     Gill      F  43039 Riley Greens Suite 393          Orient    WA  99160   \n",
       "2  Sanchez      M      594 White Dale Suite 530      Malad City    ID  83252   \n",
       "3    White      M   9443 Cynthia Court Apt. 038         Boulder    MT  59632   \n",
       "4   Garcia      M              408 Bradley Rest        Doe Hill    VA  24433   \n",
       "\n",
       "       lat      long  city_pop                                job         dob  \\\n",
       "0  36.0788  -81.1781      3495          Psychologist, counselling  1988-03-09   \n",
       "1  48.8878 -118.2105       149  Special educational needs teacher  1978-06-21   \n",
       "2  42.1808 -112.2620      4154        Nature conservation officer  1962-01-19   \n",
       "3  46.2306 -112.1138      1939                    Patent attorney  1967-01-12   \n",
       "4  38.4207  -79.4629        99     Dance movement psychotherapist  1986-03-28   \n",
       "\n",
       "                          trans_num   unix_time  merch_lat  merch_long  \\\n",
       "0  0b242abb623afc578575680df30655b9  1325376018  36.011293  -82.048315   \n",
       "1  1f76529f8574734946361c461b024d99  1325376044  49.159047 -118.186462   \n",
       "2  a1a22d70485983eac12b5b88dad1cf95  1325376051  43.150704 -112.154481   \n",
       "3  6b849c168bdad6f867558c3793159a81  1325376076  47.034331 -112.561071   \n",
       "4  a41d7549acf90789359a9aa5346dcb46  1325376186  38.674999  -78.632459   \n",
       "\n",
       "   is_fraud  trans_date trans_time  trans_year  trans_month  trans_day  \\\n",
       "0         0  2019-01-01   00:00:18        2019            1          1   \n",
       "1         0  2019-01-01   00:00:44        2019            1          1   \n",
       "2         0  2019-01-01   00:00:51        2019            1          1   \n",
       "3         0  2019-01-01   00:01:16        2019            1          1   \n",
       "4         0  2019-01-01   00:03:06        2019            1          1   \n",
       "\n",
       "   trans_hour  trans_minute  trans_second  total_second  dob_year  dob_month  \\\n",
       "0           0             0            18            18      1988          3   \n",
       "1           0             0            44            44      1978          6   \n",
       "2           0             0            51            51      1962          1   \n",
       "3           0             1            16            76      1967          1   \n",
       "4           0             3             6           186      1986          3   \n",
       "\n",
       "   dob_day  len_count_cc_num  \n",
       "0        9                16  \n",
       "1       21                12  \n",
       "2       19                14  \n",
       "3       12                16  \n",
       "4       28                15  "
      ]
     },
     "execution_count": 22,
     "metadata": {},
     "output_type": "execute_result"
    }
   ],
   "source": [
    "df_train['trans_year'] = pd.DatetimeIndex(df_train['trans_date']).year\n",
    "df_train['trans_month'] = pd.DatetimeIndex(df_train['trans_date']).month\n",
    "df_train['trans_day'] = pd.DatetimeIndex(df_train['trans_date']).day\n",
    "df_train['trans_hour'] = pd.DatetimeIndex(df_train['trans_date_trans_time']).hour\n",
    "df_train['trans_minute'] = pd.DatetimeIndex(df_train['trans_date_trans_time']).minute\n",
    "df_train['trans_second'] = pd.DatetimeIndex(df_train['trans_date_trans_time']).second\n",
    "df_train['total_second']= (df_train['trans_hour']* 3600) + (df_train['trans_minute']*60) + (df_train['trans_second'])\n",
    "df_train['dob_year'] = pd.DatetimeIndex(df_train['dob']).year\n",
    "df_train['dob_month'] = pd.DatetimeIndex(df_train['dob']).month\n",
    "df_train['dob_day'] = pd.DatetimeIndex(df_train['dob']).day\n",
    "df_train['cc_num'] = df_train['cc_num'].astype(str)\n",
    "df_train['len_count_cc_num'] = df_train['cc_num'].apply(len)\n",
    "\n",
    "df_train.head()\n"
   ]
  },
  {
   "cell_type": "code",
   "execution_count": 23,
   "metadata": {
    "id": "iIzOAO2n6dkA"
   },
   "outputs": [],
   "source": [
    "## Get the Fraud and the normal dataset\n",
    "\n",
    "fraud = df_train[df_train['is_fraud']==1]\n",
    "\n",
    "normal = df_train[df_train['is_fraud']==0]"
   ]
  },
  {
   "cell_type": "code",
   "execution_count": 24,
   "metadata": {
    "colab": {
     "base_uri": "https://localhost:8080/"
    },
    "id": "FuPJrxWp6c-w",
    "outputId": "c39110eb-dce2-4e55-ec4f-08bf980fbc32"
   },
   "outputs": [
    {
     "name": "stdout",
     "output_type": "stream",
     "text": [
      "(7506, 36) (1289169, 36)\n"
     ]
    }
   ],
   "source": [
    "print(fraud.shape,normal.shape)"
   ]
  },
  {
   "cell_type": "code",
   "execution_count": 25,
   "metadata": {
    "colab": {
     "base_uri": "https://localhost:8080/"
    },
    "id": "iY9oDwaj6b-K",
    "outputId": "fda9451f-1870-4de0-ad34-dca032c5fb70"
   },
   "outputs": [
    {
     "data": {
      "text/plain": [
       "count    7506.000000\n",
       "mean      531.320092\n",
       "std       390.560070\n",
       "min         1.060000\n",
       "25%       245.662500\n",
       "50%       396.505000\n",
       "75%       900.875000\n",
       "max      1376.040000\n",
       "Name: amt, dtype: float64"
      ]
     },
     "execution_count": 25,
     "metadata": {},
     "output_type": "execute_result"
    }
   ],
   "source": [
    "## We need to analyze more amount of information from the transaction data\n",
    "#How different are the amount of money used in different transaction classes?\n",
    "fraud.amt.describe()"
   ]
  },
  {
   "cell_type": "code",
   "execution_count": 26,
   "metadata": {
    "colab": {
     "base_uri": "https://localhost:8080/"
    },
    "id": "p6QK-bMLkMOj",
    "outputId": "3539e625-96a7-4548-f9ba-58ac78c89f88"
   },
   "outputs": [
    {
     "data": {
      "text/plain": [
       "count    1.289169e+06\n",
       "mean     6.766711e+01\n",
       "std      1.540080e+02\n",
       "min      1.000000e+00\n",
       "25%      9.610000e+00\n",
       "50%      4.728000e+01\n",
       "75%      8.254000e+01\n",
       "max      2.894890e+04\n",
       "Name: amt, dtype: float64"
      ]
     },
     "execution_count": 26,
     "metadata": {},
     "output_type": "execute_result"
    }
   ],
   "source": [
    "normal.amt.describe()"
   ]
  },
  {
   "cell_type": "code",
   "execution_count": 27,
   "metadata": {
    "colab": {
     "base_uri": "https://localhost:8080/",
     "height": 497
    },
    "id": "Tq7HF8JZ7YBC",
    "outputId": "fe3b361d-f896-412b-8803-067f06b2677d"
   },
   "outputs": [
    {
     "data": {
      "image/png": "[encoded data removed]",
      "text/plain": [
       "<Figure size 432x288 with 2 Axes>"
      ]
     },
     "metadata": {
      "needs_background": "light"
     },
     "output_type": "display_data"
    }
   ],
   "source": [
    "f, (ax1, ax2) = plt.subplots(2, 1, sharex=True)\n",
    "f.suptitle('Amount per transaction by class')\n",
    "bins = 50\n",
    "ax1.hist(fraud.amt, bins = bins)\n",
    "ax1.set_title('Fraud')\n",
    "ax2.hist(normal.amt, bins = bins)\n",
    "ax2.set_title('Normal')\n",
    "plt.xlabel('Amount ($)')\n",
    "plt.ylabel('Number of Transactions')\n",
    "plt.xlim((0, 20000))\n",
    "plt.yscale('log')\n",
    "plt.show();"
   ]
  },
  {
   "cell_type": "code",
   "execution_count": 28,
   "metadata": {
    "colab": {
     "base_uri": "https://localhost:8080/",
     "height": 497
    },
    "id": "nbSwucwtgdo0",
    "outputId": "02dd96e1-ae28-4a58-87f8-5f8702e98a0e"
   },
   "outputs": [
    {
     "data": {
      "image/png": "[encoded data removed]",
      "text/plain": [
       "<Figure size 432x288 with 2 Axes>"
      ]
     },
     "metadata": {
      "needs_background": "light"
     },
     "output_type": "display_data"
    }
   ],
   "source": [
    "# We Will check Do fraudulent transactions occur more often during certain time frame ? Let us find out with a visual representation.\n",
    "\n",
    "f, (ax1, ax2) = plt.subplots(2, 1, sharex=True)\n",
    "f.suptitle('Time of transaction vs Amount by class')\n",
    "ax1.scatter(fraud.total_second, fraud.amt)\n",
    "ax1.set_title('Fraud')\n",
    "ax2.scatter(normal.total_second, normal.amt)\n",
    "ax2.set_title('Normal')\n",
    "plt.xlabel('Time (in Seconds)')\n",
    "plt.ylabel('Amount')\n",
    "plt.show()"
   ]
  },
  {
   "cell_type": "code",
   "execution_count": 29,
   "metadata": {
    "colab": {
     "base_uri": "https://localhost:8080/",
     "height": 489
    },
    "id": "mG4IHNaO5Bzr",
    "outputId": "1a351b02-87a9-41c0-9ce6-158bddae9b37"
   },
   "outputs": [
    {
     "data": {
      "text/plain": [
       "<matplotlib.legend.Legend at 0x7f8860d35940>"
      ]
     },
     "execution_count": 29,
     "metadata": {},
     "output_type": "execute_result"
    },
    {
     "data": {
      "image/png": "[encoded data removed]",
      "text/plain": [
       "<Figure size 432x288 with 1 Axes>"
      ]
     },
     "metadata": {
      "needs_background": "light"
     },
     "output_type": "display_data"
    }
   ],
   "source": [
    "import datetime as dt\n",
    "df_train['age']=dt.date.today().year-pd.to_datetime(df_train['dob']).dt.year\n",
    "ax=sns.kdeplot(x='age',data=df_train, hue='is_fraud', common_norm=False)\n",
    "ax.set_xlabel('Credit Card Holder Age')\n",
    "ax.set_ylabel('Density')\n",
    "plt.xticks(np.arange(0,110,5))\n",
    "plt.title('Age Distribution in Fraudulent vs Non-Fraudulent Transactions')\n",
    "plt.legend(title='Type', labels=['Fraud', 'Not Fraud'])"
   ]
  },
  {
   "cell_type": "code",
   "execution_count": 30,
   "metadata": {
    "colab": {
     "base_uri": "https://localhost:8080/",
     "height": 585
    },
    "id": "8YJeumvo5rLn",
    "outputId": "7c80a813-66ae-4e5a-929b-ea4dc04beec9"
   },
   "outputs": [
    {
     "data": {
      "text/plain": [
       "Text(0.5, 0, 'Hour of Day')"
      ]
     },
     "execution_count": 30,
     "metadata": {},
     "output_type": "execute_result"
    },
    {
     "data": {
      "image/png": "[encoded data removed]",
      "text/plain": [
       "<Figure size 720x432 with 1 Axes>"
      ]
     },
     "metadata": {
      "needs_background": "light"
     },
     "output_type": "display_data"
    }
   ],
   "source": [
    "pd.crosstab(df_train['trans_hour'], df_train['is_fraud']).plot(kind='bar', figsize=(10, 6)) # Bar chart\n",
    "plt.title('Fraud Frequency for Hour of Day')\n",
    "plt.xlabel('Hour of Day')"
   ]
  },
  {
   "cell_type": "code",
   "execution_count": 31,
   "metadata": {
    "colab": {
     "base_uri": "https://localhost:8080/",
     "height": 585
    },
    "id": "o0U2ftOo5sGb",
    "outputId": "70f7b5f2-6a1e-435d-f293-8feff7e4bcb6"
   },
   "outputs": [
    {
     "data": {
      "text/plain": [
       "Text(0.5, 0, 'Month')"
      ]
     },
     "execution_count": 31,
     "metadata": {},
     "output_type": "execute_result"
    },
    {
     "data": {
      "image/png": "[encoded data removed]",
      "text/plain": [
       "<Figure size 720x432 with 1 Axes>"
      ]
     },
     "metadata": {
      "needs_background": "light"
     },
     "output_type": "display_data"
    }
   ],
   "source": [
    "pd.crosstab(df_train['trans_month'], df_train['is_fraud']).plot(kind='bar', figsize=(10, 6)) # Bar chart\n",
    "plt.title('Fraud Frequency for Month')\n",
    "plt.xlabel('Month')"
   ]
  },
  {
   "cell_type": "code",
   "execution_count": 32,
   "metadata": {
    "colab": {
     "base_uri": "https://localhost:8080/",
     "height": 705
    },
    "id": "5uBszkTH5sxV",
    "outputId": "5de8b2d0-cb64-4907-935b-3636f5983e2c"
   },
   "outputs": [
    {
     "data": {
      "image/png": "[encoded data removed]",
      "text/plain": [
       "<Figure size 1080x576 with 1 Axes>"
      ]
     },
     "metadata": {
      "needs_background": "light"
     },
     "output_type": "display_data"
    }
   ],
   "source": [
    "# State vs fraud\n",
    "f, ax = plt.subplots(figsize=(15, 8))\n",
    "ax=sns.histplot(x='state',data=df_train, hue='is_fraud',stat='percent',multiple='dodge',common_norm=False)\n",
    "plt.xticks(rotation=90)\n",
    "plt.legend(title='Type', labels=['Fraud', 'Not Fraud'])\n",
    "plt.show();"
   ]
  },
  {
   "cell_type": "code",
   "execution_count": 33,
   "metadata": {
    "id": "vLS_SmL3-0SV"
   },
   "outputs": [],
   "source": [
    "df_train['date'] = pd.to_datetime(df_train['trans_date'])\n",
    "\n",
    "df_train['tran_weekday'] = df_train['date'].dt.day_name()"
   ]
  },
  {
   "cell_type": "code",
   "execution_count": 34,
   "metadata": {
    "colab": {
     "base_uri": "https://localhost:8080/",
     "height": 426
    },
    "id": "yzH2FAav5thi",
    "outputId": "cc42e35e-1e04-48d4-8fd6-50aca38e067e"
   },
   "outputs": [
    {
     "data": {
      "text/html": [
       "<div>\n",
       "<style scoped>\n",
       "    .dataframe tbody tr th:only-of-type {\n",
       "        vertical-align: middle;\n",
       "    }\n",
       "\n",
       "    .dataframe tbody tr th {\n",
       "        vertical-align: top;\n",
       "    }\n",
       "\n",
       "    .dataframe thead th {\n",
       "        text-align: right;\n",
       "    }\n",
       "</style>\n",
       "<table border=\"1\" class=\"dataframe\">\n",
       "  <thead>\n",
       "    <tr style=\"text-align: right;\">\n",
       "      <th></th>\n",
       "      <th>merchant</th>\n",
       "      <th>category</th>\n",
       "      <th>amt</th>\n",
       "      <th>gender</th>\n",
       "      <th>city</th>\n",
       "      <th>state</th>\n",
       "      <th>zip</th>\n",
       "      <th>job</th>\n",
       "      <th>is_fraud</th>\n",
       "      <th>trans_year</th>\n",
       "      <th>trans_month</th>\n",
       "      <th>trans_day</th>\n",
       "      <th>trans_hour</th>\n",
       "      <th>trans_minute</th>\n",
       "      <th>trans_second</th>\n",
       "      <th>total_second</th>\n",
       "      <th>len_count_cc_num</th>\n",
       "      <th>age</th>\n",
       "      <th>tran_weekday</th>\n",
       "    </tr>\n",
       "  </thead>\n",
       "  <tbody>\n",
       "    <tr>\n",
       "      <th>0</th>\n",
       "      <td>fraud_Rippin, Kub and Mann</td>\n",
       "      <td>misc_net</td>\n",
       "      <td>4.97</td>\n",
       "      <td>F</td>\n",
       "      <td>Moravian Falls</td>\n",
       "      <td>NC</td>\n",
       "      <td>28654</td>\n",
       "      <td>Psychologist, counselling</td>\n",
       "      <td>0</td>\n",
       "      <td>2019</td>\n",
       "      <td>1</td>\n",
       "      <td>1</td>\n",
       "      <td>0</td>\n",
       "      <td>0</td>\n",
       "      <td>18</td>\n",
       "      <td>18</td>\n",
       "      <td>16</td>\n",
       "      <td>35</td>\n",
       "      <td>Tuesday</td>\n",
       "    </tr>\n",
       "    <tr>\n",
       "      <th>1</th>\n",
       "      <td>fraud_Heller, Gutmann and Zieme</td>\n",
       "      <td>grocery_pos</td>\n",
       "      <td>107.23</td>\n",
       "      <td>F</td>\n",
       "      <td>Orient</td>\n",
       "      <td>WA</td>\n",
       "      <td>99160</td>\n",
       "      <td>Special educational needs teacher</td>\n",
       "      <td>0</td>\n",
       "      <td>2019</td>\n",
       "      <td>1</td>\n",
       "      <td>1</td>\n",
       "      <td>0</td>\n",
       "      <td>0</td>\n",
       "      <td>44</td>\n",
       "      <td>44</td>\n",
       "      <td>12</td>\n",
       "      <td>45</td>\n",
       "      <td>Tuesday</td>\n",
       "    </tr>\n",
       "    <tr>\n",
       "      <th>2</th>\n",
       "      <td>fraud_Lind-Buckridge</td>\n",
       "      <td>entertainment</td>\n",
       "      <td>220.11</td>\n",
       "      <td>M</td>\n",
       "      <td>Malad City</td>\n",
       "      <td>ID</td>\n",
       "      <td>83252</td>\n",
       "      <td>Nature conservation officer</td>\n",
       "      <td>0</td>\n",
       "      <td>2019</td>\n",
       "      <td>1</td>\n",
       "      <td>1</td>\n",
       "      <td>0</td>\n",
       "      <td>0</td>\n",
       "      <td>51</td>\n",
       "      <td>51</td>\n",
       "      <td>14</td>\n",
       "      <td>61</td>\n",
       "      <td>Tuesday</td>\n",
       "    </tr>\n",
       "    <tr>\n",
       "      <th>3</th>\n",
       "      <td>fraud_Kutch, Hermiston and Farrell</td>\n",
       "      <td>gas_transport</td>\n",
       "      <td>45.00</td>\n",
       "      <td>M</td>\n",
       "      <td>Boulder</td>\n",
       "      <td>MT</td>\n",
       "      <td>59632</td>\n",
       "      <td>Patent attorney</td>\n",
       "      <td>0</td>\n",
       "      <td>2019</td>\n",
       "      <td>1</td>\n",
       "      <td>1</td>\n",
       "      <td>0</td>\n",
       "      <td>1</td>\n",
       "      <td>16</td>\n",
       "      <td>76</td>\n",
       "      <td>16</td>\n",
       "      <td>56</td>\n",
       "      <td>Tuesday</td>\n",
       "    </tr>\n",
       "    <tr>\n",
       "      <th>4</th>\n",
       "      <td>fraud_Keeling-Crist</td>\n",
       "      <td>misc_pos</td>\n",
       "      <td>41.96</td>\n",
       "      <td>M</td>\n",
       "      <td>Doe Hill</td>\n",
       "      <td>VA</td>\n",
       "      <td>24433</td>\n",
       "      <td>Dance movement psychotherapist</td>\n",
       "      <td>0</td>\n",
       "      <td>2019</td>\n",
       "      <td>1</td>\n",
       "      <td>1</td>\n",
       "      <td>0</td>\n",
       "      <td>3</td>\n",
       "      <td>6</td>\n",
       "      <td>186</td>\n",
       "      <td>15</td>\n",
       "      <td>37</td>\n",
       "      <td>Tuesday</td>\n",
       "    </tr>\n",
       "  </tbody>\n",
       "</table>\n",
       "</div>"
      ],
      "text/plain": [
       "                             merchant       category     amt gender  \\\n",
       "0          fraud_Rippin, Kub and Mann       misc_net    4.97      F   \n",
       "1     fraud_Heller, Gutmann and Zieme    grocery_pos  107.23      F   \n",
       "2                fraud_Lind-Buckridge  entertainment  220.11      M   \n",
       "3  fraud_Kutch, Hermiston and Farrell  gas_transport   45.00      M   \n",
       "4                 fraud_Keeling-Crist       misc_pos   41.96      M   \n",
       "\n",
       "             city state    zip                                job  is_fraud  \\\n",
       "0  Moravian Falls    NC  28654          Psychologist, counselling         0   \n",
       "1          Orient    WA  99160  Special educational needs teacher         0   \n",
       "2      Malad City    ID  83252        Nature conservation officer         0   \n",
       "3         Boulder    MT  59632                    Patent attorney         0   \n",
       "4        Doe Hill    VA  24433     Dance movement psychotherapist         0   \n",
       "\n",
       "   trans_year  trans_month  trans_day  trans_hour  trans_minute  trans_second  \\\n",
       "0        2019            1          1           0             0            18   \n",
       "1        2019            1          1           0             0            44   \n",
       "2        2019            1          1           0             0            51   \n",
       "3        2019            1          1           0             1            16   \n",
       "4        2019            1          1           0             3             6   \n",
       "\n",
       "   total_second  len_count_cc_num  age tran_weekday  \n",
       "0            18                16   35      Tuesday  \n",
       "1            44                12   45      Tuesday  \n",
       "2            51                14   61      Tuesday  \n",
       "3            76                16   56      Tuesday  \n",
       "4           186                15   37      Tuesday  "
      ]
     },
     "execution_count": 34,
     "metadata": {},
     "output_type": "execute_result"
    }
   ],
   "source": [
    "df_drop = ['trans_date_trans_time', 'cc_num', 'lat', 'long', 'trans_num', 'merch_lat', 'merch_long', 'trans_date', 'trans_time', 'street', 'last', 'first', 'city_pop', 'dob', 'unix_time','dob_year', 'dob_month', 'Unnamed: 0', 'dob_day', 'date']\n",
    "df = df_train.drop(columns=df_drop)\n",
    "df.head()"
   ]
  },
  {
   "cell_type": "code",
   "execution_count": 35,
   "metadata": {
    "id": "0_kYN1zl1tDn"
   },
   "outputs": [],
   "source": [
    "bins = [0, 245, 396, 900, 1400]\n",
    "\n",
    "labels = ['0-20%', '20%-50%', '50%-75%', '75%-100%']\n",
    "\n",
    "df['amt_group'] = pd.cut(df['amt'], bins=bins, labels=labels)\n"
   ]
  },
  {
   "cell_type": "code",
   "execution_count": 36,
   "metadata": {
    "id": "9d9KK-1m7Mqq"
   },
   "outputs": [],
   "source": [
    "bins = [0, 20, 40, 60, 80]\n",
    "\n",
    "labels = ['0-20', '20-40', '40-60', '60-80']\n",
    "\n",
    "df['age_group'] = pd.cut(df['age'], bins=bins, labels=labels)"
   ]
  },
  {
   "cell_type": "code",
   "execution_count": 37,
   "metadata": {
    "id": "dJTrgMitOdKJ"
   },
   "outputs": [],
   "source": [
    "bins = [0, 6, 12, 17, 21, 24]\n",
    "\n",
    "labels = ['Night', 'Morning', 'Afternoon', 'Evening', 'Night']\n",
    "\n",
    "df['trans_time_classification'] = pd.cut(df['trans_hour'], bins=bins, labels=labels, ordered=False)"
   ]
  },
  {
   "cell_type": "code",
   "execution_count": 38,
   "metadata": {
    "id": "4HizlIgRnNSW"
   },
   "outputs": [],
   "source": [
    "distinct_values = df.drop_duplicates(subset=['merchant', 'city', 'state', 'zip', 'job', 'len_count_cc_num'])"
   ]
  },
  {
   "cell_type": "code",
   "execution_count": 39,
   "metadata": {
    "colab": {
     "base_uri": "https://localhost:8080/"
    },
    "id": "Y0aqprJM1_H2",
    "outputId": "92172862-f4b9-4baf-ba80-4be1cc23f1de"
   },
   "outputs": [
    {
     "name": "stdout",
     "output_type": "stream",
     "text": [
      "merchant                       693\n",
      "category                        14\n",
      "amt                          52928\n",
      "gender                           2\n",
      "city                           894\n",
      "state                           51\n",
      "zip                            970\n",
      "job                            494\n",
      "is_fraud                         2\n",
      "trans_year                       2\n",
      "trans_month                     12\n",
      "trans_day                       31\n",
      "trans_hour                      24\n",
      "trans_minute                    60\n",
      "trans_second                    60\n",
      "total_second                 86400\n",
      "len_count_cc_num                 7\n",
      "age                             81\n",
      "tran_weekday                     7\n",
      "amt_group                        4\n",
      "age_group                        4\n",
      "trans_time_classification        4\n",
      "dtype: int64\n"
     ]
    }
   ],
   "source": [
    "distinct_values = df.nunique()\n",
    "print(distinct_values)"
   ]
  },
  {
   "cell_type": "code",
   "execution_count": 40,
   "metadata": {
    "id": "PWyvXF9oBs0K"
   },
   "outputs": [],
   "source": [
    "#Determine the number of fraud and valid transactions in the dataset\n",
    "\n",
    "Fraud = df[df['is_fraud']==1]\n",
    "\n",
    "Valid = df[df['is_fraud']==0]\n",
    "\n",
    "outlier_fraction = len(Fraud)/float(len(Valid))"
   ]
  },
  {
   "cell_type": "code",
   "execution_count": 41,
   "metadata": {
    "colab": {
     "base_uri": "https://localhost:8080/"
    },
    "id": "Bp0XPcZYB1uN",
    "outputId": "dd1152fb-fca4-4e13-e5ca-88fee9cf38d2"
   },
   "outputs": [
    {
     "name": "stdout",
     "output_type": "stream",
     "text": [
      "0.005822355331224998\n",
      "Fraud Cases : 7506\n",
      "Valid Cases : 1289169\n"
     ]
    }
   ],
   "source": [
    "print(outlier_fraction)\n",
    "\n",
    "print(\"Fraud Cases : {}\".format(len(Fraud)))\n",
    "\n",
    "print(\"Valid Cases : {}\".format(len(Valid)))"
   ]
  },
  {
   "cell_type": "code",
   "execution_count": 42,
   "metadata": {},
   "outputs": [
    {
     "data": {
      "text/html": [
       "<div>\n",
       "<style scoped>\n",
       "    .dataframe tbody tr th:only-of-type {\n",
       "        vertical-align: middle;\n",
       "    }\n",
       "\n",
       "    .dataframe tbody tr th {\n",
       "        vertical-align: top;\n",
       "    }\n",
       "\n",
       "    .dataframe thead th {\n",
       "        text-align: right;\n",
       "    }\n",
       "</style>\n",
       "<table border=\"1\" class=\"dataframe\">\n",
       "  <thead>\n",
       "    <tr style=\"text-align: right;\">\n",
       "      <th></th>\n",
       "      <th>merchant</th>\n",
       "      <th>category</th>\n",
       "      <th>amt</th>\n",
       "      <th>gender</th>\n",
       "      <th>city</th>\n",
       "      <th>state</th>\n",
       "      <th>zip</th>\n",
       "      <th>job</th>\n",
       "      <th>is_fraud</th>\n",
       "      <th>trans_year</th>\n",
       "      <th>trans_month</th>\n",
       "      <th>trans_day</th>\n",
       "      <th>trans_hour</th>\n",
       "      <th>trans_minute</th>\n",
       "      <th>trans_second</th>\n",
       "      <th>total_second</th>\n",
       "      <th>len_count_cc_num</th>\n",
       "      <th>age</th>\n",
       "      <th>tran_weekday</th>\n",
       "      <th>amt_group</th>\n",
       "      <th>age_group</th>\n",
       "      <th>trans_time_classification</th>\n",
       "    </tr>\n",
       "  </thead>\n",
       "  <tbody>\n",
       "    <tr>\n",
       "      <th>2449</th>\n",
       "      <td>fraud_Rutherford-Mertz</td>\n",
       "      <td>grocery_pos</td>\n",
       "      <td>281.06</td>\n",
       "      <td>M</td>\n",
       "      <td>Collettsville</td>\n",
       "      <td>NC</td>\n",
       "      <td>28611</td>\n",
       "      <td>Soil scientist</td>\n",
       "      <td>1</td>\n",
       "      <td>2019</td>\n",
       "      <td>1</td>\n",
       "      <td>2</td>\n",
       "      <td>1</td>\n",
       "      <td>6</td>\n",
       "      <td>37</td>\n",
       "      <td>3997</td>\n",
       "      <td>13</td>\n",
       "      <td>35</td>\n",
       "      <td>Wednesday</td>\n",
       "      <td>20%-50%</td>\n",
       "      <td>20-40</td>\n",
       "      <td>Night</td>\n",
       "    </tr>\n",
       "    <tr>\n",
       "      <th>2472</th>\n",
       "      <td>fraud_Jenkins, Hauck and Friesen</td>\n",
       "      <td>gas_transport</td>\n",
       "      <td>11.52</td>\n",
       "      <td>F</td>\n",
       "      <td>San Antonio</td>\n",
       "      <td>TX</td>\n",
       "      <td>78208</td>\n",
       "      <td>Horticultural consultant</td>\n",
       "      <td>1</td>\n",
       "      <td>2019</td>\n",
       "      <td>1</td>\n",
       "      <td>2</td>\n",
       "      <td>1</td>\n",
       "      <td>47</td>\n",
       "      <td>29</td>\n",
       "      <td>6449</td>\n",
       "      <td>15</td>\n",
       "      <td>63</td>\n",
       "      <td>Wednesday</td>\n",
       "      <td>0-20%</td>\n",
       "      <td>60-80</td>\n",
       "      <td>Night</td>\n",
       "    </tr>\n",
       "    <tr>\n",
       "      <th>2523</th>\n",
       "      <td>fraud_Goodwin-Nitzsche</td>\n",
       "      <td>grocery_pos</td>\n",
       "      <td>276.31</td>\n",
       "      <td>F</td>\n",
       "      <td>San Antonio</td>\n",
       "      <td>TX</td>\n",
       "      <td>78208</td>\n",
       "      <td>Horticultural consultant</td>\n",
       "      <td>1</td>\n",
       "      <td>2019</td>\n",
       "      <td>1</td>\n",
       "      <td>2</td>\n",
       "      <td>3</td>\n",
       "      <td>5</td>\n",
       "      <td>23</td>\n",
       "      <td>11123</td>\n",
       "      <td>15</td>\n",
       "      <td>63</td>\n",
       "      <td>Wednesday</td>\n",
       "      <td>20%-50%</td>\n",
       "      <td>60-80</td>\n",
       "      <td>Night</td>\n",
       "    </tr>\n",
       "    <tr>\n",
       "      <th>2546</th>\n",
       "      <td>fraud_Erdman-Kertzmann</td>\n",
       "      <td>gas_transport</td>\n",
       "      <td>7.03</td>\n",
       "      <td>M</td>\n",
       "      <td>Collettsville</td>\n",
       "      <td>NC</td>\n",
       "      <td>28611</td>\n",
       "      <td>Soil scientist</td>\n",
       "      <td>1</td>\n",
       "      <td>2019</td>\n",
       "      <td>1</td>\n",
       "      <td>2</td>\n",
       "      <td>3</td>\n",
       "      <td>38</td>\n",
       "      <td>3</td>\n",
       "      <td>13083</td>\n",
       "      <td>13</td>\n",
       "      <td>35</td>\n",
       "      <td>Wednesday</td>\n",
       "      <td>0-20%</td>\n",
       "      <td>20-40</td>\n",
       "      <td>Night</td>\n",
       "    </tr>\n",
       "    <tr>\n",
       "      <th>2553</th>\n",
       "      <td>fraud_Koepp-Parker</td>\n",
       "      <td>grocery_pos</td>\n",
       "      <td>275.73</td>\n",
       "      <td>F</td>\n",
       "      <td>San Antonio</td>\n",
       "      <td>TX</td>\n",
       "      <td>78208</td>\n",
       "      <td>Horticultural consultant</td>\n",
       "      <td>1</td>\n",
       "      <td>2019</td>\n",
       "      <td>1</td>\n",
       "      <td>2</td>\n",
       "      <td>3</td>\n",
       "      <td>55</td>\n",
       "      <td>47</td>\n",
       "      <td>14147</td>\n",
       "      <td>15</td>\n",
       "      <td>63</td>\n",
       "      <td>Wednesday</td>\n",
       "      <td>20%-50%</td>\n",
       "      <td>60-80</td>\n",
       "      <td>Night</td>\n",
       "    </tr>\n",
       "  </tbody>\n",
       "</table>\n",
       "</div>"
      ],
      "text/plain": [
       "                              merchant       category     amt gender  \\\n",
       "2449            fraud_Rutherford-Mertz    grocery_pos  281.06      M   \n",
       "2472  fraud_Jenkins, Hauck and Friesen  gas_transport   11.52      F   \n",
       "2523            fraud_Goodwin-Nitzsche    grocery_pos  276.31      F   \n",
       "2546            fraud_Erdman-Kertzmann  gas_transport    7.03      M   \n",
       "2553                fraud_Koepp-Parker    grocery_pos  275.73      F   \n",
       "\n",
       "               city state    zip                       job  is_fraud  \\\n",
       "2449  Collettsville    NC  28611            Soil scientist         1   \n",
       "2472    San Antonio    TX  78208  Horticultural consultant         1   \n",
       "2523    San Antonio    TX  78208  Horticultural consultant         1   \n",
       "2546  Collettsville    NC  28611            Soil scientist         1   \n",
       "2553    San Antonio    TX  78208  Horticultural consultant         1   \n",
       "\n",
       "      trans_year  trans_month  trans_day  trans_hour  trans_minute  \\\n",
       "2449        2019            1          2           1             6   \n",
       "2472        2019            1          2           1            47   \n",
       "2523        2019            1          2           3             5   \n",
       "2546        2019            1          2           3            38   \n",
       "2553        2019            1          2           3            55   \n",
       "\n",
       "      trans_second  total_second  len_count_cc_num  age tran_weekday  \\\n",
       "2449            37          3997                13   35    Wednesday   \n",
       "2472            29          6449                15   63    Wednesday   \n",
       "2523            23         11123                15   63    Wednesday   \n",
       "2546             3         13083                13   35    Wednesday   \n",
       "2553            47         14147                15   63    Wednesday   \n",
       "\n",
       "     amt_group age_group trans_time_classification  \n",
       "2449   20%-50%     20-40                     Night  \n",
       "2472     0-20%     60-80                     Night  \n",
       "2523   20%-50%     60-80                     Night  \n",
       "2546     0-20%     20-40                     Night  \n",
       "2553   20%-50%     60-80                     Night  "
      ]
     },
     "execution_count": 42,
     "metadata": {},
     "output_type": "execute_result"
    }
   ],
   "source": [
    "Fraud.head()"
   ]
  },
  {
   "cell_type": "code",
   "execution_count": 43,
   "metadata": {},
   "outputs": [
    {
     "data": {
      "text/plain": [
       "3988088.6100000003"
      ]
     },
     "execution_count": 43,
     "metadata": {},
     "output_type": "execute_result"
    }
   ],
   "source": [
    "Fraud_df = Fraud.groupby('category').agg({'category': 'count', 'amt': 'sum'})\n",
    "Fraud_df.columns = ['Count', 'Total Amount']\n",
    "Fraud_df['Total Amount'].sum()"
   ]
  },
  {
   "cell_type": "code",
   "execution_count": 44,
   "metadata": {},
   "outputs": [
    {
     "data": {
      "image/png": "[encoded data removed]",
      "text/plain": [
       "<Figure size 432x288 with 1 Axes>"
      ]
     },
     "metadata": {
      "needs_background": "light"
     },
     "output_type": "display_data"
    }
   ],
   "source": [
    "grouped_df.sort_values(by='Total Amount')['Total Amount'].plot(kind='bar')\n",
    "#sns.displot(grouped_df, x= 'Total Amount')\n",
    "plt.title('Train Category distribution fraudulent Amount')\n",
    "plt.xticks(rotation=90)\n",
    "plt.show()"
   ]
  },
  {
   "cell_type": "code",
   "execution_count": 45,
   "metadata": {},
   "outputs": [
    {
     "data": {
      "text/plain": [
       "Text(0.5, 0, 'Time Classification of Day')"
      ]
     },
     "execution_count": 45,
     "metadata": {},
     "output_type": "execute_result"
    },
    {
     "data": {
      "image/png": "[encoded data removed]",
      "text/plain": [
       "<Figure size 720x432 with 1 Axes>"
      ]
     },
     "metadata": {
      "needs_background": "light"
     },
     "output_type": "display_data"
    }
   ],
   "source": [
    "pd.crosstab(Fraud['trans_time_classification'], Fraud['is_fraud']).plot(kind='bar', figsize=(10, 6)) # Bar chart\n",
    "plt.title('Fraud Frequency of Day')\n",
    "plt.xlabel('Time Classification of Day')"
   ]
  },
  {
   "cell_type": "code",
   "execution_count": 46,
   "metadata": {},
   "outputs": [
    {
     "data": {
      "text/plain": [
       "Text(0.5, 0, 'trans_month')"
      ]
     },
     "execution_count": 46,
     "metadata": {},
     "output_type": "execute_result"
    },
    {
     "data": {
      "image/png": "[encoded data removed]",
      "text/plain": [
       "<Figure size 720x432 with 1 Axes>"
      ]
     },
     "metadata": {
      "needs_background": "light"
     },
     "output_type": "display_data"
    }
   ],
   "source": [
    "pd.crosstab(Fraud['trans_month'], Fraud['is_fraud']).plot(kind='bar', figsize=(10, 6)) # Bar chart\n",
    "plt.title('Fraud Frequency for trans_month')\n",
    "plt.xlabel('trans_month')"
   ]
  },
  {
   "cell_type": "markdown",
   "metadata": {
    "id": "eKhAJ9Gs7UkG"
   },
   "source": [
    "### Using Decision Trees"
   ]
  },
  {
   "cell_type": "code",
   "execution_count": 47,
   "metadata": {
    "colab": {
     "base_uri": "https://localhost:8080/",
     "height": 426
    },
    "id": "ICwyXxL1jntF",
    "outputId": "e387abb2-8a00-40da-ac98-353d4b46a404"
   },
   "outputs": [
    {
     "data": {
      "text/html": [
       "<div>\n",
       "<style scoped>\n",
       "    .dataframe tbody tr th:only-of-type {\n",
       "        vertical-align: middle;\n",
       "    }\n",
       "\n",
       "    .dataframe tbody tr th {\n",
       "        vertical-align: top;\n",
       "    }\n",
       "\n",
       "    .dataframe thead th {\n",
       "        text-align: right;\n",
       "    }\n",
       "</style>\n",
       "<table border=\"1\" class=\"dataframe\">\n",
       "  <thead>\n",
       "    <tr style=\"text-align: right;\">\n",
       "      <th></th>\n",
       "      <th>merchant</th>\n",
       "      <th>category</th>\n",
       "      <th>amt</th>\n",
       "      <th>gender</th>\n",
       "      <th>city</th>\n",
       "      <th>state</th>\n",
       "      <th>zip</th>\n",
       "      <th>job</th>\n",
       "      <th>is_fraud</th>\n",
       "      <th>trans_year</th>\n",
       "      <th>trans_month</th>\n",
       "      <th>trans_day</th>\n",
       "      <th>trans_hour</th>\n",
       "      <th>trans_minute</th>\n",
       "      <th>trans_second</th>\n",
       "      <th>total_second</th>\n",
       "      <th>len_count_cc_num</th>\n",
       "      <th>age</th>\n",
       "      <th>tran_weekday</th>\n",
       "      <th>amt_group</th>\n",
       "      <th>age_group</th>\n",
       "      <th>trans_time_classification</th>\n",
       "      <th>merchant_le</th>\n",
       "      <th>category_le</th>\n",
       "      <th>gender_le</th>\n",
       "      <th>city_le</th>\n",
       "      <th>state_le</th>\n",
       "      <th>zip_le</th>\n",
       "      <th>job_le</th>\n",
       "      <th>tran_weekday_le</th>\n",
       "      <th>amt_group_le</th>\n",
       "      <th>age_group_le</th>\n",
       "      <th>trans_time_classification_le</th>\n",
       "    </tr>\n",
       "  </thead>\n",
       "  <tbody>\n",
       "    <tr>\n",
       "      <th>0</th>\n",
       "      <td>fraud_Rippin, Kub and Mann</td>\n",
       "      <td>misc_net</td>\n",
       "      <td>4.97</td>\n",
       "      <td>F</td>\n",
       "      <td>Moravian Falls</td>\n",
       "      <td>NC</td>\n",
       "      <td>28654</td>\n",
       "      <td>Psychologist, counselling</td>\n",
       "      <td>0</td>\n",
       "      <td>2019</td>\n",
       "      <td>1</td>\n",
       "      <td>1</td>\n",
       "      <td>0</td>\n",
       "      <td>0</td>\n",
       "      <td>18</td>\n",
       "      <td>18</td>\n",
       "      <td>16</td>\n",
       "      <td>35</td>\n",
       "      <td>Tuesday</td>\n",
       "      <td>0-20%</td>\n",
       "      <td>20-40</td>\n",
       "      <td>NaN</td>\n",
       "      <td>514</td>\n",
       "      <td>8</td>\n",
       "      <td>0</td>\n",
       "      <td>526</td>\n",
       "      <td>27</td>\n",
       "      <td>265</td>\n",
       "      <td>370</td>\n",
       "      <td>5</td>\n",
       "      <td>0</td>\n",
       "      <td>1</td>\n",
       "      <td>4</td>\n",
       "    </tr>\n",
       "    <tr>\n",
       "      <th>1</th>\n",
       "      <td>fraud_Heller, Gutmann and Zieme</td>\n",
       "      <td>grocery_pos</td>\n",
       "      <td>107.23</td>\n",
       "      <td>F</td>\n",
       "      <td>Orient</td>\n",
       "      <td>WA</td>\n",
       "      <td>99160</td>\n",
       "      <td>Special educational needs teacher</td>\n",
       "      <td>0</td>\n",
       "      <td>2019</td>\n",
       "      <td>1</td>\n",
       "      <td>1</td>\n",
       "      <td>0</td>\n",
       "      <td>0</td>\n",
       "      <td>44</td>\n",
       "      <td>44</td>\n",
       "      <td>12</td>\n",
       "      <td>45</td>\n",
       "      <td>Tuesday</td>\n",
       "      <td>0-20%</td>\n",
       "      <td>40-60</td>\n",
       "      <td>NaN</td>\n",
       "      <td>241</td>\n",
       "      <td>4</td>\n",
       "      <td>0</td>\n",
       "      <td>612</td>\n",
       "      <td>47</td>\n",
       "      <td>965</td>\n",
       "      <td>428</td>\n",
       "      <td>5</td>\n",
       "      <td>0</td>\n",
       "      <td>2</td>\n",
       "      <td>4</td>\n",
       "    </tr>\n",
       "    <tr>\n",
       "      <th>2</th>\n",
       "      <td>fraud_Lind-Buckridge</td>\n",
       "      <td>entertainment</td>\n",
       "      <td>220.11</td>\n",
       "      <td>M</td>\n",
       "      <td>Malad City</td>\n",
       "      <td>ID</td>\n",
       "      <td>83252</td>\n",
       "      <td>Nature conservation officer</td>\n",
       "      <td>0</td>\n",
       "      <td>2019</td>\n",
       "      <td>1</td>\n",
       "      <td>1</td>\n",
       "      <td>0</td>\n",
       "      <td>0</td>\n",
       "      <td>51</td>\n",
       "      <td>51</td>\n",
       "      <td>14</td>\n",
       "      <td>61</td>\n",
       "      <td>Tuesday</td>\n",
       "      <td>0-20%</td>\n",
       "      <td>60-80</td>\n",
       "      <td>NaN</td>\n",
       "      <td>390</td>\n",
       "      <td>0</td>\n",
       "      <td>1</td>\n",
       "      <td>468</td>\n",
       "      <td>13</td>\n",
       "      <td>858</td>\n",
       "      <td>307</td>\n",
       "      <td>5</td>\n",
       "      <td>0</td>\n",
       "      <td>3</td>\n",
       "      <td>4</td>\n",
       "    </tr>\n",
       "    <tr>\n",
       "      <th>3</th>\n",
       "      <td>fraud_Kutch, Hermiston and Farrell</td>\n",
       "      <td>gas_transport</td>\n",
       "      <td>45.00</td>\n",
       "      <td>M</td>\n",
       "      <td>Boulder</td>\n",
       "      <td>MT</td>\n",
       "      <td>59632</td>\n",
       "      <td>Patent attorney</td>\n",
       "      <td>0</td>\n",
       "      <td>2019</td>\n",
       "      <td>1</td>\n",
       "      <td>1</td>\n",
       "      <td>0</td>\n",
       "      <td>1</td>\n",
       "      <td>16</td>\n",
       "      <td>76</td>\n",
       "      <td>16</td>\n",
       "      <td>56</td>\n",
       "      <td>Tuesday</td>\n",
       "      <td>0-20%</td>\n",
       "      <td>40-60</td>\n",
       "      <td>NaN</td>\n",
       "      <td>360</td>\n",
       "      <td>2</td>\n",
       "      <td>1</td>\n",
       "      <td>84</td>\n",
       "      <td>26</td>\n",
       "      <td>614</td>\n",
       "      <td>328</td>\n",
       "      <td>5</td>\n",
       "      <td>0</td>\n",
       "      <td>2</td>\n",
       "      <td>4</td>\n",
       "    </tr>\n",
       "    <tr>\n",
       "      <th>4</th>\n",
       "      <td>fraud_Keeling-Crist</td>\n",
       "      <td>misc_pos</td>\n",
       "      <td>41.96</td>\n",
       "      <td>M</td>\n",
       "      <td>Doe Hill</td>\n",
       "      <td>VA</td>\n",
       "      <td>24433</td>\n",
       "      <td>Dance movement psychotherapist</td>\n",
       "      <td>0</td>\n",
       "      <td>2019</td>\n",
       "      <td>1</td>\n",
       "      <td>1</td>\n",
       "      <td>0</td>\n",
       "      <td>3</td>\n",
       "      <td>6</td>\n",
       "      <td>186</td>\n",
       "      <td>15</td>\n",
       "      <td>37</td>\n",
       "      <td>Tuesday</td>\n",
       "      <td>0-20%</td>\n",
       "      <td>20-40</td>\n",
       "      <td>NaN</td>\n",
       "      <td>297</td>\n",
       "      <td>9</td>\n",
       "      <td>1</td>\n",
       "      <td>216</td>\n",
       "      <td>45</td>\n",
       "      <td>231</td>\n",
       "      <td>116</td>\n",
       "      <td>5</td>\n",
       "      <td>0</td>\n",
       "      <td>1</td>\n",
       "      <td>4</td>\n",
       "    </tr>\n",
       "  </tbody>\n",
       "</table>\n",
       "</div>"
      ],
      "text/plain": [
       "                             merchant       category     amt gender  \\\n",
       "0          fraud_Rippin, Kub and Mann       misc_net    4.97      F   \n",
       "1     fraud_Heller, Gutmann and Zieme    grocery_pos  107.23      F   \n",
       "2                fraud_Lind-Buckridge  entertainment  220.11      M   \n",
       "3  fraud_Kutch, Hermiston and Farrell  gas_transport   45.00      M   \n",
       "4                 fraud_Keeling-Crist       misc_pos   41.96      M   \n",
       "\n",
       "             city state    zip                                job  is_fraud  \\\n",
       "0  Moravian Falls    NC  28654          Psychologist, counselling         0   \n",
       "1          Orient    WA  99160  Special educational needs teacher         0   \n",
       "2      Malad City    ID  83252        Nature conservation officer         0   \n",
       "3         Boulder    MT  59632                    Patent attorney         0   \n",
       "4        Doe Hill    VA  24433     Dance movement psychotherapist         0   \n",
       "\n",
       "   trans_year  trans_month  trans_day  trans_hour  trans_minute  trans_second  \\\n",
       "0        2019            1          1           0             0            18   \n",
       "1        2019            1          1           0             0            44   \n",
       "2        2019            1          1           0             0            51   \n",
       "3        2019            1          1           0             1            16   \n",
       "4        2019            1          1           0             3             6   \n",
       "\n",
       "   total_second  len_count_cc_num  age tran_weekday amt_group age_group  \\\n",
       "0            18                16   35      Tuesday     0-20%     20-40   \n",
       "1            44                12   45      Tuesday     0-20%     40-60   \n",
       "2            51                14   61      Tuesday     0-20%     60-80   \n",
       "3            76                16   56      Tuesday     0-20%     40-60   \n",
       "4           186                15   37      Tuesday     0-20%     20-40   \n",
       "\n",
       "  trans_time_classification  merchant_le  category_le  gender_le  city_le  \\\n",
       "0                       NaN          514            8          0      526   \n",
       "1                       NaN          241            4          0      612   \n",
       "2                       NaN          390            0          1      468   \n",
       "3                       NaN          360            2          1       84   \n",
       "4                       NaN          297            9          1      216   \n",
       "\n",
       "   state_le  zip_le  job_le  tran_weekday_le  amt_group_le  age_group_le  \\\n",
       "0        27     265     370                5             0             1   \n",
       "1        47     965     428                5             0             2   \n",
       "2        13     858     307                5             0             3   \n",
       "3        26     614     328                5             0             2   \n",
       "4        45     231     116                5             0             1   \n",
       "\n",
       "   trans_time_classification_le  \n",
       "0                             4  \n",
       "1                             4  \n",
       "2                             4  \n",
       "3                             4  \n",
       "4                             4  "
      ]
     },
     "execution_count": 47,
     "metadata": {},
     "output_type": "execute_result"
    }
   ],
   "source": [
    "le = LabelEncoder()\n",
    "df[['merchant_le', 'category_le', 'gender_le', 'city_le', 'state_le', 'zip_le', 'job_le', 'tran_weekday_le', 'amt_group_le', 'age_group_le', 'trans_time_classification_le']] = df[['merchant','category', 'gender', 'city', 'state', 'zip', 'job', 'tran_weekday', 'amt_group', 'age_group', 'trans_time_classification']].apply(le.fit_transform)\n",
    "df.head()"
   ]
  },
  {
   "cell_type": "code",
   "execution_count": 48,
   "metadata": {
    "colab": {
     "base_uri": "https://localhost:8080/"
    },
    "id": "_RK_7FgjyVex",
    "outputId": "18bc0192-b415-46b1-88c6-dc2781fffd58"
   },
   "outputs": [
    {
     "name": "stdout",
     "output_type": "stream",
     "text": [
      "amt                             52928\n",
      "is_fraud                            2\n",
      "trans_year                          2\n",
      "trans_month                        12\n",
      "trans_day                          31\n",
      "trans_hour                         24\n",
      "trans_minute                       60\n",
      "trans_second                       60\n",
      "total_second                    86400\n",
      "len_count_cc_num                    7\n",
      "age                                81\n",
      "merchant_le                       693\n",
      "category_le                        14\n",
      "gender_le                           2\n",
      "city_le                           894\n",
      "state_le                           51\n",
      "zip_le                            970\n",
      "job_le                            494\n",
      "tran_weekday_le                     7\n",
      "amt_group_le                        5\n",
      "age_group_le                        5\n",
      "trans_time_classification_le        5\n",
      "dtype: int64\n"
     ]
    }
   ],
   "source": [
    "drop_list = ['merchant', 'category', 'gender', 'city', 'state', 'zip', 'job', 'tran_weekday', 'amt_group', 'age_group', 'trans_time_classification']\n",
    "df_1 = df.drop(columns=drop_list)\n",
    "distinct_values_1 = df_1.nunique()\n",
    "print(distinct_values_1)"
   ]
  },
  {
   "cell_type": "code",
   "execution_count": 49,
   "metadata": {
    "colab": {
     "base_uri": "https://localhost:8080/",
     "height": 270
    },
    "id": "eHZLxZfX3sVF",
    "outputId": "0ac8d625-bf2e-4422-c017-cdd547a001fa"
   },
   "outputs": [
    {
     "data": {
      "text/html": [
       "<div>\n",
       "<style scoped>\n",
       "    .dataframe tbody tr th:only-of-type {\n",
       "        vertical-align: middle;\n",
       "    }\n",
       "\n",
       "    .dataframe tbody tr th {\n",
       "        vertical-align: top;\n",
       "    }\n",
       "\n",
       "    .dataframe thead th {\n",
       "        text-align: right;\n",
       "    }\n",
       "</style>\n",
       "<table border=\"1\" class=\"dataframe\">\n",
       "  <thead>\n",
       "    <tr style=\"text-align: right;\">\n",
       "      <th></th>\n",
       "      <th>amt</th>\n",
       "      <th>is_fraud</th>\n",
       "      <th>trans_year</th>\n",
       "      <th>trans_month</th>\n",
       "      <th>trans_day</th>\n",
       "      <th>trans_hour</th>\n",
       "      <th>trans_minute</th>\n",
       "      <th>trans_second</th>\n",
       "      <th>total_second</th>\n",
       "      <th>len_count_cc_num</th>\n",
       "      <th>age</th>\n",
       "      <th>merchant_le</th>\n",
       "      <th>category_le</th>\n",
       "      <th>gender_le</th>\n",
       "      <th>city_le</th>\n",
       "      <th>state_le</th>\n",
       "      <th>zip_le</th>\n",
       "      <th>job_le</th>\n",
       "      <th>tran_weekday_le</th>\n",
       "      <th>amt_group_le</th>\n",
       "      <th>age_group_le</th>\n",
       "      <th>trans_time_classification_le</th>\n",
       "    </tr>\n",
       "  </thead>\n",
       "  <tbody>\n",
       "    <tr>\n",
       "      <th>0</th>\n",
       "      <td>4.97</td>\n",
       "      <td>0</td>\n",
       "      <td>2019</td>\n",
       "      <td>1</td>\n",
       "      <td>1</td>\n",
       "      <td>0</td>\n",
       "      <td>0</td>\n",
       "      <td>18</td>\n",
       "      <td>18</td>\n",
       "      <td>16</td>\n",
       "      <td>35</td>\n",
       "      <td>514</td>\n",
       "      <td>8</td>\n",
       "      <td>0</td>\n",
       "      <td>526</td>\n",
       "      <td>27</td>\n",
       "      <td>265</td>\n",
       "      <td>370</td>\n",
       "      <td>5</td>\n",
       "      <td>0</td>\n",
       "      <td>1</td>\n",
       "      <td>4</td>\n",
       "    </tr>\n",
       "    <tr>\n",
       "      <th>1</th>\n",
       "      <td>107.23</td>\n",
       "      <td>0</td>\n",
       "      <td>2019</td>\n",
       "      <td>1</td>\n",
       "      <td>1</td>\n",
       "      <td>0</td>\n",
       "      <td>0</td>\n",
       "      <td>44</td>\n",
       "      <td>44</td>\n",
       "      <td>12</td>\n",
       "      <td>45</td>\n",
       "      <td>241</td>\n",
       "      <td>4</td>\n",
       "      <td>0</td>\n",
       "      <td>612</td>\n",
       "      <td>47</td>\n",
       "      <td>965</td>\n",
       "      <td>428</td>\n",
       "      <td>5</td>\n",
       "      <td>0</td>\n",
       "      <td>2</td>\n",
       "      <td>4</td>\n",
       "    </tr>\n",
       "    <tr>\n",
       "      <th>2</th>\n",
       "      <td>220.11</td>\n",
       "      <td>0</td>\n",
       "      <td>2019</td>\n",
       "      <td>1</td>\n",
       "      <td>1</td>\n",
       "      <td>0</td>\n",
       "      <td>0</td>\n",
       "      <td>51</td>\n",
       "      <td>51</td>\n",
       "      <td>14</td>\n",
       "      <td>61</td>\n",
       "      <td>390</td>\n",
       "      <td>0</td>\n",
       "      <td>1</td>\n",
       "      <td>468</td>\n",
       "      <td>13</td>\n",
       "      <td>858</td>\n",
       "      <td>307</td>\n",
       "      <td>5</td>\n",
       "      <td>0</td>\n",
       "      <td>3</td>\n",
       "      <td>4</td>\n",
       "    </tr>\n",
       "    <tr>\n",
       "      <th>3</th>\n",
       "      <td>45.00</td>\n",
       "      <td>0</td>\n",
       "      <td>2019</td>\n",
       "      <td>1</td>\n",
       "      <td>1</td>\n",
       "      <td>0</td>\n",
       "      <td>1</td>\n",
       "      <td>16</td>\n",
       "      <td>76</td>\n",
       "      <td>16</td>\n",
       "      <td>56</td>\n",
       "      <td>360</td>\n",
       "      <td>2</td>\n",
       "      <td>1</td>\n",
       "      <td>84</td>\n",
       "      <td>26</td>\n",
       "      <td>614</td>\n",
       "      <td>328</td>\n",
       "      <td>5</td>\n",
       "      <td>0</td>\n",
       "      <td>2</td>\n",
       "      <td>4</td>\n",
       "    </tr>\n",
       "    <tr>\n",
       "      <th>4</th>\n",
       "      <td>41.96</td>\n",
       "      <td>0</td>\n",
       "      <td>2019</td>\n",
       "      <td>1</td>\n",
       "      <td>1</td>\n",
       "      <td>0</td>\n",
       "      <td>3</td>\n",
       "      <td>6</td>\n",
       "      <td>186</td>\n",
       "      <td>15</td>\n",
       "      <td>37</td>\n",
       "      <td>297</td>\n",
       "      <td>9</td>\n",
       "      <td>1</td>\n",
       "      <td>216</td>\n",
       "      <td>45</td>\n",
       "      <td>231</td>\n",
       "      <td>116</td>\n",
       "      <td>5</td>\n",
       "      <td>0</td>\n",
       "      <td>1</td>\n",
       "      <td>4</td>\n",
       "    </tr>\n",
       "  </tbody>\n",
       "</table>\n",
       "</div>"
      ],
      "text/plain": [
       "      amt  is_fraud  trans_year  trans_month  trans_day  trans_hour  \\\n",
       "0    4.97         0        2019            1          1           0   \n",
       "1  107.23         0        2019            1          1           0   \n",
       "2  220.11         0        2019            1          1           0   \n",
       "3   45.00         0        2019            1          1           0   \n",
       "4   41.96         0        2019            1          1           0   \n",
       "\n",
       "   trans_minute  trans_second  total_second  len_count_cc_num  age  \\\n",
       "0             0            18            18                16   35   \n",
       "1             0            44            44                12   45   \n",
       "2             0            51            51                14   61   \n",
       "3             1            16            76                16   56   \n",
       "4             3             6           186                15   37   \n",
       "\n",
       "   merchant_le  category_le  gender_le  city_le  state_le  zip_le  job_le  \\\n",
       "0          514            8          0      526        27     265     370   \n",
       "1          241            4          0      612        47     965     428   \n",
       "2          390            0          1      468        13     858     307   \n",
       "3          360            2          1       84        26     614     328   \n",
       "4          297            9          1      216        45     231     116   \n",
       "\n",
       "   tran_weekday_le  amt_group_le  age_group_le  trans_time_classification_le  \n",
       "0                5             0             1                             4  \n",
       "1                5             0             2                             4  \n",
       "2                5             0             3                             4  \n",
       "3                5             0             2                             4  \n",
       "4                5             0             1                             4  "
      ]
     },
     "execution_count": 49,
     "metadata": {},
     "output_type": "execute_result"
    }
   ],
   "source": [
    "df_1.head()"
   ]
  },
  {
   "cell_type": "code",
   "execution_count": 50,
   "metadata": {
    "id": "hAWMpOD47SjZ"
   },
   "outputs": [],
   "source": [
    "from sklearn.tree import DecisionTreeRegressor"
   ]
  },
  {
   "cell_type": "code",
   "execution_count": 51,
   "metadata": {
    "id": "SEWLihYj7rsf"
   },
   "outputs": [],
   "source": [
    "np.random.seed(0)\n",
    "df_train_n, df_test_n = train_test_split(df_1, train_size=0.7, random_state=100)"
   ]
  },
  {
   "cell_type": "code",
   "execution_count": 52,
   "metadata": {
    "colab": {
     "base_uri": "https://localhost:8080/"
    },
    "id": "LHH3Sgau7uPE",
    "outputId": "92eda6b3-ad1b-4cf8-84dc-821dc9b7cce5"
   },
   "outputs": [
    {
     "data": {
      "text/plain": [
       "((907672, 22), (389003, 22))"
      ]
     },
     "execution_count": 52,
     "metadata": {},
     "output_type": "execute_result"
    }
   ],
   "source": [
    "df_train_n.shape, df_test_n.shape"
   ]
  },
  {
   "cell_type": "code",
   "execution_count": 53,
   "metadata": {
    "colab": {
     "base_uri": "https://localhost:8080/",
     "height": 270
    },
    "id": "ng4SrZKs8A83",
    "outputId": "591ac08b-8162-452e-fe10-c15c0efe13b4"
   },
   "outputs": [
    {
     "data": {
      "text/html": [
       "<div>\n",
       "<style scoped>\n",
       "    .dataframe tbody tr th:only-of-type {\n",
       "        vertical-align: middle;\n",
       "    }\n",
       "\n",
       "    .dataframe tbody tr th {\n",
       "        vertical-align: top;\n",
       "    }\n",
       "\n",
       "    .dataframe thead th {\n",
       "        text-align: right;\n",
       "    }\n",
       "</style>\n",
       "<table border=\"1\" class=\"dataframe\">\n",
       "  <thead>\n",
       "    <tr style=\"text-align: right;\">\n",
       "      <th></th>\n",
       "      <th>amt</th>\n",
       "      <th>is_fraud</th>\n",
       "      <th>trans_year</th>\n",
       "      <th>trans_month</th>\n",
       "      <th>trans_day</th>\n",
       "      <th>trans_hour</th>\n",
       "      <th>trans_minute</th>\n",
       "      <th>trans_second</th>\n",
       "      <th>total_second</th>\n",
       "      <th>len_count_cc_num</th>\n",
       "      <th>age</th>\n",
       "      <th>merchant_le</th>\n",
       "      <th>category_le</th>\n",
       "      <th>gender_le</th>\n",
       "      <th>city_le</th>\n",
       "      <th>state_le</th>\n",
       "      <th>zip_le</th>\n",
       "      <th>job_le</th>\n",
       "      <th>tran_weekday_le</th>\n",
       "      <th>amt_group_le</th>\n",
       "      <th>age_group_le</th>\n",
       "      <th>trans_time_classification_le</th>\n",
       "    </tr>\n",
       "  </thead>\n",
       "  <tbody>\n",
       "    <tr>\n",
       "      <th>405688</th>\n",
       "      <td>113.19</td>\n",
       "      <td>0</td>\n",
       "      <td>2019</td>\n",
       "      <td>7</td>\n",
       "      <td>3</td>\n",
       "      <td>1</td>\n",
       "      <td>17</td>\n",
       "      <td>35</td>\n",
       "      <td>4655</td>\n",
       "      <td>13</td>\n",
       "      <td>68</td>\n",
       "      <td>345</td>\n",
       "      <td>4</td>\n",
       "      <td>1</td>\n",
       "      <td>412</td>\n",
       "      <td>5</td>\n",
       "      <td>842</td>\n",
       "      <td>309</td>\n",
       "      <td>6</td>\n",
       "      <td>0</td>\n",
       "      <td>3</td>\n",
       "      <td>3</td>\n",
       "    </tr>\n",
       "    <tr>\n",
       "      <th>554704</th>\n",
       "      <td>77.40</td>\n",
       "      <td>0</td>\n",
       "      <td>2019</td>\n",
       "      <td>8</td>\n",
       "      <td>25</td>\n",
       "      <td>4</td>\n",
       "      <td>35</td>\n",
       "      <td>14</td>\n",
       "      <td>16514</td>\n",
       "      <td>16</td>\n",
       "      <td>26</td>\n",
       "      <td>550</td>\n",
       "      <td>4</td>\n",
       "      <td>1</td>\n",
       "      <td>494</td>\n",
       "      <td>38</td>\n",
       "      <td>165</td>\n",
       "      <td>313</td>\n",
       "      <td>3</td>\n",
       "      <td>0</td>\n",
       "      <td>1</td>\n",
       "      <td>3</td>\n",
       "    </tr>\n",
       "    <tr>\n",
       "      <th>1184524</th>\n",
       "      <td>33.36</td>\n",
       "      <td>0</td>\n",
       "      <td>2020</td>\n",
       "      <td>5</td>\n",
       "      <td>10</td>\n",
       "      <td>5</td>\n",
       "      <td>23</td>\n",
       "      <td>15</td>\n",
       "      <td>19395</td>\n",
       "      <td>16</td>\n",
       "      <td>34</td>\n",
       "      <td>664</td>\n",
       "      <td>3</td>\n",
       "      <td>0</td>\n",
       "      <td>135</td>\n",
       "      <td>24</td>\n",
       "      <td>665</td>\n",
       "      <td>148</td>\n",
       "      <td>3</td>\n",
       "      <td>0</td>\n",
       "      <td>1</td>\n",
       "      <td>3</td>\n",
       "    </tr>\n",
       "    <tr>\n",
       "      <th>1117881</th>\n",
       "      <td>137.53</td>\n",
       "      <td>0</td>\n",
       "      <td>2020</td>\n",
       "      <td>4</td>\n",
       "      <td>10</td>\n",
       "      <td>13</td>\n",
       "      <td>46</td>\n",
       "      <td>11</td>\n",
       "      <td>49571</td>\n",
       "      <td>15</td>\n",
       "      <td>64</td>\n",
       "      <td>552</td>\n",
       "      <td>6</td>\n",
       "      <td>1</td>\n",
       "      <td>582</td>\n",
       "      <td>15</td>\n",
       "      <td>472</td>\n",
       "      <td>134</td>\n",
       "      <td>0</td>\n",
       "      <td>0</td>\n",
       "      <td>3</td>\n",
       "      <td>0</td>\n",
       "    </tr>\n",
       "    <tr>\n",
       "      <th>23109</th>\n",
       "      <td>65.62</td>\n",
       "      <td>0</td>\n",
       "      <td>2019</td>\n",
       "      <td>1</td>\n",
       "      <td>14</td>\n",
       "      <td>15</td>\n",
       "      <td>48</td>\n",
       "      <td>17</td>\n",
       "      <td>56897</td>\n",
       "      <td>15</td>\n",
       "      <td>41</td>\n",
       "      <td>460</td>\n",
       "      <td>1</td>\n",
       "      <td>1</td>\n",
       "      <td>253</td>\n",
       "      <td>45</td>\n",
       "      <td>213</td>\n",
       "      <td>419</td>\n",
       "      <td>1</td>\n",
       "      <td>0</td>\n",
       "      <td>2</td>\n",
       "      <td>0</td>\n",
       "    </tr>\n",
       "  </tbody>\n",
       "</table>\n",
       "</div>"
      ],
      "text/plain": [
       "            amt  is_fraud  trans_year  trans_month  trans_day  trans_hour  \\\n",
       "405688   113.19         0        2019            7          3           1   \n",
       "554704    77.40         0        2019            8         25           4   \n",
       "1184524   33.36         0        2020            5         10           5   \n",
       "1117881  137.53         0        2020            4         10          13   \n",
       "23109     65.62         0        2019            1         14          15   \n",
       "\n",
       "         trans_minute  trans_second  total_second  len_count_cc_num  age  \\\n",
       "405688             17            35          4655                13   68   \n",
       "554704             35            14         16514                16   26   \n",
       "1184524            23            15         19395                16   34   \n",
       "1117881            46            11         49571                15   64   \n",
       "23109              48            17         56897                15   41   \n",
       "\n",
       "         merchant_le  category_le  gender_le  city_le  state_le  zip_le  \\\n",
       "405688           345            4          1      412         5     842   \n",
       "554704           550            4          1      494        38     165   \n",
       "1184524          664            3          0      135        24     665   \n",
       "1117881          552            6          1      582        15     472   \n",
       "23109            460            1          1      253        45     213   \n",
       "\n",
       "         job_le  tran_weekday_le  amt_group_le  age_group_le  \\\n",
       "405688      309                6             0             3   \n",
       "554704      313                3             0             1   \n",
       "1184524     148                3             0             1   \n",
       "1117881     134                0             0             3   \n",
       "23109       419                1             0             2   \n",
       "\n",
       "         trans_time_classification_le  \n",
       "405688                              3  \n",
       "554704                              3  \n",
       "1184524                             3  \n",
       "1117881                             0  \n",
       "23109                               0  "
      ]
     },
     "execution_count": 53,
     "metadata": {},
     "output_type": "execute_result"
    }
   ],
   "source": [
    "df_test_n.head()"
   ]
  },
  {
   "cell_type": "code",
   "execution_count": 54,
   "metadata": {
    "id": "Kd9-8QTE98oS"
   },
   "outputs": [],
   "source": [
    "y_train = df_test_n.pop(\"is_fraud\")\n",
    "X_train = df_test_n\n",
    "\n",
    "y_test = df_train_n.pop(\"is_fraud\")\n",
    "X_test = df_test_n"
   ]
  },
  {
   "cell_type": "code",
   "execution_count": null,
   "metadata": {
    "colab": {
     "base_uri": "https://localhost:8080/"
    },
    "id": "y8izjoTkj5tu",
    "outputId": "e39a996e-ad64-4623-ab27-253148368276"
   },
   "outputs": [],
   "source": [
    "clf = DecisionTreeClassifier()\n",
    "param_grid = {'max_depth': [2, 4, 6, 8, 10, 12, 14, 16, 18, 20]}\n",
    "\n",
    "grid_search = GridSearchCV(clf, param_grid=param_grid)\n",
    "grid_search.fit(X_train, y_train)\n",
    "\n",
    "print(grid_search.best_params_)"
   ]
  },
  {
   "cell_type": "code",
   "execution_count": null,
   "metadata": {
    "id": "JRWLWQG6lY9z"
   },
   "outputs": [],
   "source": [
    "dt_1 = DecisionTreeRegressor(random_state=42, max_depth=8, min_samples_leaf=10)"
   ]
  },
  {
   "cell_type": "code",
   "execution_count": null,
   "metadata": {
    "colab": {
     "base_uri": "https://localhost:8080/",
     "height": 75
    },
    "id": "-PocDlVZldm_",
    "outputId": "13351392-693b-4e4f-b3af-216f0c670a54"
   },
   "outputs": [],
   "source": [
    "dt_1.fit(X_train, y_train)"
   ]
  },
  {
   "cell_type": "code",
   "execution_count": null,
   "metadata": {
    "id": "Qa5Nti9RDrX6"
   },
   "outputs": [],
   "source": [
    "from IPython.display import Image\n",
    "from six import StringIO\n",
    "from sklearn.tree import export_graphviz\n",
    "import pydotplus, graphviz\n",
    "\n",
    "dot_data = StringIO()\n",
    "\n",
    "export_graphviz(dt_1, out_file=dot_data, filled=True, rounded=True,\n",
    "                feature_names=X_train.columns)\n",
    "\n",
    "graph = pydotplus.graph_from_dot_data(dot_data.getvalue())\n",
    "Image(graph.create_png())"
   ]
  },
  {
   "cell_type": "code",
   "execution_count": null,
   "metadata": {
    "id": "WczT5e3m4jSF"
   },
   "outputs": [],
   "source": [
    "#get correlations of each features in dataset\n",
    "corrmat = df_1.corr()\n",
    "top_corr_features = corrmat.index\n",
    "plt.figure(figsize=(20,20))\n",
    "#plot heat map\n",
    "g=sns.heatmap(df_1[top_corr_features].corr(),annot=True,cmap=\"RdYlGn\")"
   ]
  },
  {
   "cell_type": "code",
   "execution_count": null,
   "metadata": {
    "id": "nCv_8QGzKXfV"
   },
   "outputs": [],
   "source": [
    "#Create independent and Dependent Features\n",
    "columns = df_1.columns.tolist()\n",
    "# Filter the columns to remove data we do not want\n",
    "columns = [c for c in columns if c not in [\"is_fraud\"]]\n",
    "# Store the variable we are predicting\n",
    "target = \"is_fraud\"\n",
    "# Define a random state\n",
    "state = np.random.RandomState(42)\n",
    "X = df_1[columns]\n",
    "Y = df_1[target]\n",
    "X_outliers = state.uniform(low=0, high=1, size=(X.shape[0], X.shape[1]))\n",
    "# Print the shapes of X & Y\n",
    "print(X.shape)\n",
    "print(Y.shape)"
   ]
  },
  {
   "cell_type": "markdown",
   "metadata": {
    "id": "cb7fCJqoLhv9"
   },
   "source": [
    "## Model Prediction\n",
    "\n",
    "\n",
    "\n",
    "\n",
    "\n",
    "Now it is time to start building the model .The types of algorithms we are going to use to try to do anomaly detection on this dataset are as follows\n",
    "\n",
    "### Isolation Forest Algorithm :\n",
    "One of the newest techniques to detect anomalies is called Isolation Forests. The algorithm is based on the fact that anomalies are data points that are few and different. As a result of these properties, anomalies are susceptible to a mechanism called isolation.\n",
    "\n",
    "This method is highly useful and is fundamentally different from all existing methods. It introduces the use of isolation as a more effective and efficient means to detect anomalies than the commonly used basic distance and density measures. Moreover, this method is an algorithm with a low linear time complexity and a small memory requirement. It builds a good performing model with a small number of trees using small sub-samples of fixed size, regardless of the size of a data set.\n",
    "\n",
    "Typical machine learning methods tend to work better when the patterns they try to learn are balanced, meaning the same amount of good and bad behaviors are present in the dataset.\n",
    "\n",
    "How Isolation Forests Work\n",
    "The Isolation Forest algorithm isolates observations by randomly selecting a feature and then randomly selecting a split value between the maximum and minimum values of the selected feature. The logic argument goes: isolating anomaly observations is easier because only a few conditions are needed to separate those cases from the normal observations. On the other hand, isolating normal observations require more conditions. Therefore, an anomaly score can be calculated as the number of conditions required to separate a given observation.\n",
    "\n",
    "The way that the algorithm constructs the separation is by first creating isolation trees, or random decision trees. Then, the score is calculated as the path length to isolate the observation.\n",
    "\n",
    "\n",
    "### Local Outlier Factor(LOF) Algorithm\n",
    "The LOF algorithm is an unsupervised outlier detection method which computes the local density deviation of a given data point with respect to its neighbors. It considers as outlier samples that have a substantially lower density than their neighbors.\n",
    "\n",
    "The number of neighbors considered, (parameter n_neighbors) is typically chosen 1) greater than the minimum number of objects a cluster has to contain, so that other objects can be local outliers relative to this cluster, and 2) smaller than the maximum number of close by objects that can potentially be local outliers. In practice, such informations are generally not available, and taking n_neighbors=20 appears to work well in general."
   ]
  },
  {
   "cell_type": "code",
   "execution_count": null,
   "metadata": {
    "id": "DKRh8hx8LBnP"
   },
   "outputs": [],
   "source": [
    "##Define the outlier detection methods\n",
    "\n",
    "classifiers = {\n",
    "    \"Isolation Forest\":IsolationForest(n_estimators=100, max_samples=len(X),\n",
    "                                       contamination=outlier_fraction,random_state=state, verbose=0),\n",
    "    \"Local Outlier Factor\":LocalOutlierFactor(n_neighbors=20, algorithm='auto',\n",
    "                                              leaf_size=30, metric='minkowski',\n",
    "                                              p=2, metric_params=None, contamination=outlier_fraction),\n",
    "    \"Support Vector Machine\":OneClassSVM(kernel='rbf', degree=3, gamma=0.1,nu=0.05,\n",
    "                                         max_iter=-1)\n",
    "\n",
    "}"
   ]
  },
  {
   "cell_type": "code",
   "execution_count": null,
   "metadata": {
    "id": "T9Fy1qQrLnl4"
   },
   "outputs": [],
   "source": [
    "type(classifiers)"
   ]
  },
  {
   "cell_type": "code",
   "execution_count": null,
   "metadata": {
    "id": "t-J40ErwL_H2"
   },
   "outputs": [],
   "source": [
    "n_outliers = len(Fraud)\n",
    "for i, (clf_name,clf) in enumerate(classifiers.items()):\n",
    "    #Fit the data and tag outliers\n",
    "    if clf_name == \"Local Outlier Factor\":\n",
    "        y_pred = clf.fit_predict(X)\n",
    "        scores_prediction = clf.negative_outlier_factor_\n",
    "    elif clf_name == \"Support Vector Machine\":\n",
    "        clf.fit(X)\n",
    "        y_pred = clf.predict(X)\n",
    "    else:\n",
    "        clf.fit(X)\n",
    "        scores_prediction = clf.decision_function(X)\n",
    "        y_pred = clf.predict(X)\n",
    "    #Reshape the prediction values to 0 for Valid transactions , 1 for Fraud transactions\n",
    "    y_pred[y_pred == 1] = 0\n",
    "    y_pred[y_pred == -1] = 1\n",
    "    n_errors = (y_pred != Y).sum()\n",
    "    # Run Classification Metrics\n",
    "    print(\"{}: {}\".format(clf_name,n_errors))\n",
    "    print(\"Accuracy Score :\")\n",
    "    print(accuracy_score(Y,y_pred))\n",
    "    print(\"Classification Report :\")\n",
    "    print(classification_report(Y,y_pred))"
   ]
  },
  {
   "cell_type": "markdown",
   "metadata": {
    "id": "1rQi3ruVMNGQ"
   },
   "source": [
    "### Observations :\n",
    "Isolation Forest detected 73 errors versus Local Outlier Factor detecting 97 errors vs. SVM detecting 8516 errors\n",
    "Isolation Forest has a 99.74% more accurate than LOF of 99.65% and SVM of 70.09\n",
    "When comparing error precision & recall for 3 models , the Isolation Forest performed much better than the LOF as we can see that the detection of fraud cases is around 27 % versus LOF detection rate of just 2 % and SVM of 0%.\n",
    "So overall Isolation Forest Method performed much better in determining the fraud cases which is around 30%.\n",
    "We can also improve on this accuracy by increasing the sample size or use deep learning algorithms however at the cost of computational expense.We can also use complex anomaly detection models to get better accuracy in determining more fraudulent cases"
   ]
  },
  {
   "cell_type": "code",
   "execution_count": null,
   "metadata": {},
   "outputs": [],
   "source": []
  }
 ],
 "metadata": {
  "colab": {
   "provenance": []
  },
  "kernelspec": {
   "display_name": "Python 3 (ipykernel)",
   "language": "python",
   "name": "python3"
  },
  "language_info": {
   "codemirror_mode": {
    "name": "ipython",
    "version": 3
   },
   "file_extension": ".py",
   "mimetype": "text/x-python",
   "name": "python",
   "nbconvert_exporter": "python",
   "pygments_lexer": "ipython3",
   "version": "3.9.12"
  }
 },
 "nbformat": 4,
 "nbformat_minor": 1
}
